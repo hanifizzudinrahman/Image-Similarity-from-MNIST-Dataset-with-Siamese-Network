{
 "cells": [
  {
   "cell_type": "markdown",
   "metadata": {
    "colab_type": "text",
    "id": "ZL_6GK8qX35J"
   },
   "source": [
    "\n",
    "\n",
    "# Week 1: Multiple Output Models using the Keras Functional API\n",
    "\n",
    "Welcome to the first programming assignment of the course! Your task will be to use the Keras functional API to train a model to predict two outputs. For this lab, you will use the **[Wine Quality Dataset](https://archive.ics.uci.edu/ml/datasets/Wine+Quality)** from the **UCI machine learning repository**. It has separate datasets for red wine and white wine.\n",
    "\n",
    "Normally, the wines are classified into one of the quality ratings specified in the attributes. In this exercise, you will combine the two datasets to predict the wine quality and whether the wine is red or white solely from the attributes. \n",
    "\n",
    "You will model wine quality estimations as a regression problem and wine type detection as a binary classification problem.\n",
    "\n",
    "#### Please complete sections that are marked **(TODO)**"
   ]
  },
  {
   "cell_type": "markdown",
   "metadata": {
    "colab_type": "text",
    "id": "obdcD6urYBY9"
   },
   "source": [
    "## Imports"
   ]
  },
  {
   "cell_type": "code",
   "execution_count": 1,
   "metadata": {
    "colab": {},
    "colab_type": "code",
    "id": "t8N3pcTQ5oQI"
   },
   "outputs": [],
   "source": [
    "import tensorflow as tf\n",
    "from tensorflow.keras.models import Model\n",
    "from tensorflow.keras.layers import Dense, Input\n",
    "\n",
    "import numpy as np\n",
    "import matplotlib.pyplot as plt\n",
    "import pandas as pd\n",
    "from sklearn.model_selection import train_test_split\n",
    "from sklearn.metrics import confusion_matrix\n",
    "import itertools\n",
    "\n",
    "import utils"
   ]
  },
  {
   "cell_type": "markdown",
   "metadata": {
    "colab_type": "text",
    "id": "gQMERzWQYpgm"
   },
   "source": [
    "## Load Dataset\n",
    "\n",
    "\n",
    "You will now load the dataset from the [UCI Machine Learning Repository](https://archive.ics.uci.edu/ml/index.php) which are already saved in your workspace.\n",
    "\n",
    "### Pre-process the white wine dataset (TODO)\n",
    "You will add a new column named `is_red` in your dataframe to indicate if the wine is white or red. \n",
    "- In the white wine dataset, you will fill the column `is_red` with  zeros (0)."
   ]
  },
  {
   "cell_type": "code",
   "execution_count": 5,
   "metadata": {
    "colab": {},
    "colab_type": "code",
    "deletable": false,
    "id": "2qYAjKXCd4RH",
    "nbgrader": {
     "cell_type": "code",
     "checksum": "325ea195519b7035934c95bb529a062c",
     "grade": false,
     "grade_id": "cell-e5bfa0f152d9a21f",
     "locked": false,
     "schema_version": 3,
     "solution": true,
     "task": false
    }
   },
   "outputs": [
    {
     "name": "stdout",
     "output_type": "stream",
     "text": [
      "      fixed acidity  volatile acidity  citric acid  residual sugar  chlorides  \\\n",
      "0               7.0              0.27         0.36            20.7      0.045   \n",
      "1               6.3              0.30         0.34             1.6      0.049   \n",
      "2               8.1              0.28         0.40             6.9      0.050   \n",
      "3               7.2              0.23         0.32             8.5      0.058   \n",
      "4               7.2              0.23         0.32             8.5      0.058   \n",
      "...             ...               ...          ...             ...        ...   \n",
      "4893            6.2              0.21         0.29             1.6      0.039   \n",
      "4894            6.6              0.32         0.36             8.0      0.047   \n",
      "4895            6.5              0.24         0.19             1.2      0.041   \n",
      "4896            5.5              0.29         0.30             1.1      0.022   \n",
      "4897            6.0              0.21         0.38             0.8      0.020   \n",
      "\n",
      "      free sulfur dioxide  total sulfur dioxide  density    pH  sulphates  \\\n",
      "0                    45.0                 170.0  1.00100  3.00       0.45   \n",
      "1                    14.0                 132.0  0.99400  3.30       0.49   \n",
      "2                    30.0                  97.0  0.99510  3.26       0.44   \n",
      "3                    47.0                 186.0  0.99560  3.19       0.40   \n",
      "4                    47.0                 186.0  0.99560  3.19       0.40   \n",
      "...                   ...                   ...      ...   ...        ...   \n",
      "4893                 24.0                  92.0  0.99114  3.27       0.50   \n",
      "4894                 57.0                 168.0  0.99490  3.15       0.46   \n",
      "4895                 30.0                 111.0  0.99254  2.99       0.46   \n",
      "4896                 20.0                 110.0  0.98869  3.34       0.38   \n",
      "4897                 22.0                  98.0  0.98941  3.26       0.32   \n",
      "\n",
      "      alcohol  quality  \n",
      "0         8.8        6  \n",
      "1         9.5        6  \n",
      "2        10.1        6  \n",
      "3         9.9        6  \n",
      "4         9.9        6  \n",
      "...       ...      ...  \n",
      "4893     11.2        6  \n",
      "4894      9.6        5  \n",
      "4895      9.4        6  \n",
      "4896     12.8        7  \n",
      "4897     11.8        6  \n",
      "\n",
      "[4898 rows x 12 columns]\n",
      "      fixed acidity  volatile acidity  citric acid  residual sugar  chlorides  \\\n",
      "0               7.0              0.27         0.36            20.7      0.045   \n",
      "1               6.3              0.30         0.34             1.6      0.049   \n",
      "2               8.1              0.28         0.40             6.9      0.050   \n",
      "3               7.2              0.23         0.32             8.5      0.058   \n",
      "6               6.2              0.32         0.16             7.0      0.045   \n",
      "...             ...               ...          ...             ...        ...   \n",
      "4893            6.2              0.21         0.29             1.6      0.039   \n",
      "4894            6.6              0.32         0.36             8.0      0.047   \n",
      "4895            6.5              0.24         0.19             1.2      0.041   \n",
      "4896            5.5              0.29         0.30             1.1      0.022   \n",
      "4897            6.0              0.21         0.38             0.8      0.020   \n",
      "\n",
      "      free sulfur dioxide  total sulfur dioxide  density    pH  sulphates  \\\n",
      "0                    45.0                 170.0  1.00100  3.00       0.45   \n",
      "1                    14.0                 132.0  0.99400  3.30       0.49   \n",
      "2                    30.0                  97.0  0.99510  3.26       0.44   \n",
      "3                    47.0                 186.0  0.99560  3.19       0.40   \n",
      "6                    30.0                 136.0  0.99490  3.18       0.47   \n",
      "...                   ...                   ...      ...   ...        ...   \n",
      "4893                 24.0                  92.0  0.99114  3.27       0.50   \n",
      "4894                 57.0                 168.0  0.99490  3.15       0.46   \n",
      "4895                 30.0                 111.0  0.99254  2.99       0.46   \n",
      "4896                 20.0                 110.0  0.98869  3.34       0.38   \n",
      "4897                 22.0                  98.0  0.98941  3.26       0.32   \n",
      "\n",
      "      alcohol  quality  is_red  \n",
      "0         8.8        6       0  \n",
      "1         9.5        6       0  \n",
      "2        10.1        6       0  \n",
      "3         9.9        6       0  \n",
      "6         9.6        6       0  \n",
      "...       ...      ...     ...  \n",
      "4893     11.2        6       0  \n",
      "4894      9.6        5       0  \n",
      "4895      9.4        6       0  \n",
      "4896     12.8        7       0  \n",
      "4897     11.8        6       0  \n",
      "\n",
      "[3961 rows x 13 columns]\n"
     ]
    }
   ],
   "source": [
    "## Please uncomment all lines in this cell and replace those marked with `# YOUR CODE HERE`.\n",
    "## You can select all lines in this code cell with Ctrl+A (Windows/Linux) or Cmd+A (Mac), then press Ctrl+/ (Windows/Linux) or Cmd+/ (Mac) to uncomment.\n",
    "\n",
    "\n",
    "\n",
    "# # URL of the white wine dataset\n",
    "URI = './winequality-white.csv'\n",
    "\n",
    "# # load the dataset from the URL\n",
    "white_df = pd.read_csv(URI, sep=\";\")\n",
    "print(white_df)\n",
    "\n",
    "# # fill the `is_red` column with zeros.\n",
    "white_df[\"is_red\"] = 0 # YOUR CODE HERE\n",
    "\n",
    "# # keep only the first of duplicate items\n",
    "white_df = white_df.drop_duplicates(keep='first')\n",
    "print(white_df)"
   ]
  },
  {
   "cell_type": "code",
   "execution_count": 6,
   "metadata": {
    "deletable": false,
    "editable": false,
    "nbgrader": {
     "cell_type": "code",
     "checksum": "defe38d6ec58fd31cd67b89e46c4373f",
     "grade": true,
     "grade_id": "cell-30575e713b55fc51",
     "locked": true,
     "points": 1,
     "schema_version": 3,
     "solution": false,
     "task": false
    }
   },
   "outputs": [
    {
     "name": "stdout",
     "output_type": "stream",
     "text": [
      "\u001b[92m All public tests passed\n"
     ]
    }
   ],
   "source": [
    "# You can click `File -> Open` in the menu above and open the `utils.py` file \n",
    "# in case you want to inspect the unit tests being used for each graded function.\n",
    "\n",
    "utils.test_white_df(white_df)\n"
   ]
  },
  {
   "cell_type": "code",
   "execution_count": 7,
   "metadata": {
    "colab": {},
    "colab_type": "code",
    "id": "OQHK0ohBQRCk"
   },
   "outputs": [
    {
     "name": "stdout",
     "output_type": "stream",
     "text": [
      "8.8\n",
      "9.1\n"
     ]
    }
   ],
   "source": [
    "print(white_df.alcohol[0])\n",
    "print(white_df.alcohol[100])\n",
    "\n",
    "# EXPECTED OUTPUT\n",
    "# 8.8\n",
    "# 9.1"
   ]
  },
  {
   "cell_type": "markdown",
   "metadata": {},
   "source": [
    "### Pre-process the red wine dataset (TODO)\n",
    "- In the red wine dataset, you will fill in the column `is_red` with ones (1)."
   ]
  },
  {
   "cell_type": "code",
   "execution_count": 8,
   "metadata": {
    "colab": {},
    "colab_type": "code",
    "deletable": false,
    "id": "8y3QxKwBed8v",
    "nbgrader": {
     "cell_type": "code",
     "checksum": "12e0963d15be33b01b4e6ebc8945e51e",
     "grade": false,
     "grade_id": "cell-e47a40f306593274",
     "locked": false,
     "schema_version": 3,
     "solution": true,
     "task": false
    }
   },
   "outputs": [
    {
     "name": "stdout",
     "output_type": "stream",
     "text": [
      "      fixed acidity  volatile acidity  citric acid  residual sugar  chlorides  \\\n",
      "0               7.4             0.700         0.00             1.9      0.076   \n",
      "1               7.8             0.880         0.00             2.6      0.098   \n",
      "2               7.8             0.760         0.04             2.3      0.092   \n",
      "3              11.2             0.280         0.56             1.9      0.075   \n",
      "5               7.4             0.660         0.00             1.8      0.075   \n",
      "...             ...               ...          ...             ...        ...   \n",
      "1593            6.8             0.620         0.08             1.9      0.068   \n",
      "1594            6.2             0.600         0.08             2.0      0.090   \n",
      "1595            5.9             0.550         0.10             2.2      0.062   \n",
      "1597            5.9             0.645         0.12             2.0      0.075   \n",
      "1598            6.0             0.310         0.47             3.6      0.067   \n",
      "\n",
      "      free sulfur dioxide  total sulfur dioxide  density    pH  sulphates  \\\n",
      "0                    11.0                  34.0  0.99780  3.51       0.56   \n",
      "1                    25.0                  67.0  0.99680  3.20       0.68   \n",
      "2                    15.0                  54.0  0.99700  3.26       0.65   \n",
      "3                    17.0                  60.0  0.99800  3.16       0.58   \n",
      "5                    13.0                  40.0  0.99780  3.51       0.56   \n",
      "...                   ...                   ...      ...   ...        ...   \n",
      "1593                 28.0                  38.0  0.99651  3.42       0.82   \n",
      "1594                 32.0                  44.0  0.99490  3.45       0.58   \n",
      "1595                 39.0                  51.0  0.99512  3.52       0.76   \n",
      "1597                 32.0                  44.0  0.99547  3.57       0.71   \n",
      "1598                 18.0                  42.0  0.99549  3.39       0.66   \n",
      "\n",
      "      alcohol  quality  is_red  \n",
      "0         9.4        5       1  \n",
      "1         9.8        5       1  \n",
      "2         9.8        5       1  \n",
      "3         9.8        6       1  \n",
      "5         9.4        5       1  \n",
      "...       ...      ...     ...  \n",
      "1593      9.5        6       1  \n",
      "1594     10.5        5       1  \n",
      "1595     11.2        6       1  \n",
      "1597     10.2        5       1  \n",
      "1598     11.0        6       1  \n",
      "\n",
      "[1359 rows x 13 columns]\n"
     ]
    }
   ],
   "source": [
    "## Please uncomment all lines in this cell and replace those marked with `# YOUR CODE HERE`.\n",
    "## You can select all lines in this code cell with Ctrl+A (Windows/Linux) or Cmd+A (Mac), then press Ctrl+/ (Windows/Linux) or Cmd+/ (Mac) to uncomment.\n",
    "\n",
    "\n",
    "\n",
    "# # URL of the red wine dataset\n",
    "URI = './winequality-red.csv'\n",
    "\n",
    "# # load the dataset from the URL\n",
    "red_df = pd.read_csv(URI, sep=\";\")\n",
    "\n",
    "# # fill the `is_red` column with ones.\n",
    "red_df[\"is_red\"] = 1 # YOUR CODE HERE\n",
    "\n",
    "# # keep only the first of duplicate items\n",
    "red_df = red_df.drop_duplicates(keep='first')\n",
    "print(red_df)\n"
   ]
  },
  {
   "cell_type": "code",
   "execution_count": 9,
   "metadata": {
    "deletable": false,
    "editable": false,
    "nbgrader": {
     "cell_type": "code",
     "checksum": "d8e0c91b0fd668b63ba74a8f2f958b59",
     "grade": true,
     "grade_id": "cell-2a75937adcc0c25b",
     "locked": true,
     "points": 1,
     "schema_version": 3,
     "solution": false,
     "task": false
    }
   },
   "outputs": [
    {
     "name": "stdout",
     "output_type": "stream",
     "text": [
      "\u001b[92m All public tests passed\n"
     ]
    }
   ],
   "source": [
    "utils.test_red_df(red_df)\n"
   ]
  },
  {
   "cell_type": "code",
   "execution_count": 10,
   "metadata": {
    "colab": {},
    "colab_type": "code",
    "id": "zsB3LUzNQpo_"
   },
   "outputs": [
    {
     "name": "stdout",
     "output_type": "stream",
     "text": [
      "9.4\n",
      "10.2\n"
     ]
    }
   ],
   "source": [
    "print(red_df.alcohol[0])\n",
    "print(red_df.alcohol[100])\n",
    "\n",
    "# EXPECTED OUTPUT\n",
    "# 9.4\n",
    "# 10.2"
   ]
  },
  {
   "cell_type": "markdown",
   "metadata": {
    "colab_type": "text",
    "id": "2G8B-NYuM6-f"
   },
   "source": [
    "### Concatenate the datasets\n",
    "\n",
    "Next, concatenate the red and white wine dataframes."
   ]
  },
  {
   "cell_type": "code",
   "execution_count": 11,
   "metadata": {
    "colab": {},
    "colab_type": "code",
    "id": "YpQrOjJbfN3m"
   },
   "outputs": [
    {
     "name": "stdout",
     "output_type": "stream",
     "text": [
      "      fixed acidity  volatile acidity  citric acid  residual sugar  chlorides  \\\n",
      "0               7.4              0.70         0.00             1.9      0.076   \n",
      "1               7.8              0.88         0.00             2.6      0.098   \n",
      "2               7.8              0.76         0.04             2.3      0.092   \n",
      "3              11.2              0.28         0.56             1.9      0.075   \n",
      "4               7.4              0.66         0.00             1.8      0.075   \n",
      "...             ...               ...          ...             ...        ...   \n",
      "5315            6.2              0.21         0.29             1.6      0.039   \n",
      "5316            6.6              0.32         0.36             8.0      0.047   \n",
      "5317            6.5              0.24         0.19             1.2      0.041   \n",
      "5318            5.5              0.29         0.30             1.1      0.022   \n",
      "5319            6.0              0.21         0.38             0.8      0.020   \n",
      "\n",
      "      free sulfur dioxide  total sulfur dioxide  density    pH  sulphates  \\\n",
      "0                    11.0                  34.0  0.99780  3.51       0.56   \n",
      "1                    25.0                  67.0  0.99680  3.20       0.68   \n",
      "2                    15.0                  54.0  0.99700  3.26       0.65   \n",
      "3                    17.0                  60.0  0.99800  3.16       0.58   \n",
      "4                    13.0                  40.0  0.99780  3.51       0.56   \n",
      "...                   ...                   ...      ...   ...        ...   \n",
      "5315                 24.0                  92.0  0.99114  3.27       0.50   \n",
      "5316                 57.0                 168.0  0.99490  3.15       0.46   \n",
      "5317                 30.0                 111.0  0.99254  2.99       0.46   \n",
      "5318                 20.0                 110.0  0.98869  3.34       0.38   \n",
      "5319                 22.0                  98.0  0.98941  3.26       0.32   \n",
      "\n",
      "      alcohol  quality  is_red  \n",
      "0         9.4        5       1  \n",
      "1         9.8        5       1  \n",
      "2         9.8        5       1  \n",
      "3         9.8        6       1  \n",
      "4         9.4        5       1  \n",
      "...       ...      ...     ...  \n",
      "5315     11.2        6       0  \n",
      "5316      9.6        5       0  \n",
      "5317      9.4        6       0  \n",
      "5318     12.8        7       0  \n",
      "5319     11.8        6       0  \n",
      "\n",
      "[5320 rows x 13 columns]\n"
     ]
    }
   ],
   "source": [
    "df = pd.concat([red_df, white_df], ignore_index=True)\n",
    "print(df)"
   ]
  },
  {
   "cell_type": "code",
   "execution_count": 12,
   "metadata": {
    "colab": {},
    "colab_type": "code",
    "id": "Se2dTmThQyjb"
   },
   "outputs": [
    {
     "name": "stdout",
     "output_type": "stream",
     "text": [
      "9.4\n",
      "9.5\n"
     ]
    }
   ],
   "source": [
    "print(df.alcohol[0])\n",
    "print(df.alcohol[100])\n",
    "\n",
    "# EXPECTED OUTPUT\n",
    "# 9.4\n",
    "# 9.5"
   ]
  },
  {
   "cell_type": "markdown",
   "metadata": {},
   "source": [
    "In a real-world scenario, you should shuffle the data. For this assignment however, **you are not** going to do that because the grader needs to test with deterministic data. If you want the code to do it **after** you've gotten your grade for this notebook, we left the commented line below for reference"
   ]
  },
  {
   "cell_type": "code",
   "execution_count": null,
   "metadata": {
    "colab": {},
    "colab_type": "code",
    "id": "wx6y3rPpQv4k"
   },
   "outputs": [],
   "source": [
    "#df = df.iloc[np.random.permutation(len(df))]"
   ]
  },
  {
   "cell_type": "markdown",
   "metadata": {
    "colab_type": "text",
    "id": "-EqIcbg5M_n1"
   },
   "source": [
    "This will chart the quality of the wines."
   ]
  },
  {
   "cell_type": "code",
   "execution_count": 13,
   "metadata": {
    "colab": {},
    "colab_type": "code",
    "id": "IsvK0-Sgy17C"
   },
   "outputs": [
    {
     "data": {
      "image/png": "[encoded data removed]",
      "text/plain": [
       "<Figure size 432x288 with 1 Axes>"
      ]
     },
     "metadata": {
      "needs_background": "light"
     },
     "output_type": "display_data"
    }
   ],
   "source": [
    "df['quality'].hist(bins=20);"
   ]
  },
  {
   "cell_type": "markdown",
   "metadata": {
    "colab_type": "text",
    "id": "Nut1rmYLzf-p"
   },
   "source": [
    "### Imbalanced data (TODO)\n",
    "You can see from the plot above that the wine quality dataset is imbalanced. \n",
    "- Since there are very few observations with quality equal to 3, 4, 8 and 9, you can drop these observations from your dataset. \n",
    "- You can do this by removing data belonging to all classes except those > 4 and < 8."
   ]
  },
  {
   "cell_type": "code",
   "execution_count": 15,
   "metadata": {
    "colab": {},
    "colab_type": "code",
    "deletable": false,
    "id": "doH9_-gnf3sz",
    "nbgrader": {
     "cell_type": "code",
     "checksum": "d9ba9fc3a3ca02ccc567be33652b80fe",
     "grade": false,
     "grade_id": "cell-6a3e9db696f6827b",
     "locked": false,
     "schema_version": 3,
     "solution": true,
     "task": false
    }
   },
   "outputs": [
    {
     "name": "stdout",
     "output_type": "stream",
     "text": [
      "      fixed acidity  volatile acidity  citric acid  residual sugar  chlorides  \\\n",
      "0               7.4              0.70         0.00             1.9      0.076   \n",
      "1               7.8              0.88         0.00             2.6      0.098   \n",
      "2               7.8              0.76         0.04             2.3      0.092   \n",
      "3              11.2              0.28         0.56             1.9      0.075   \n",
      "4               7.4              0.66         0.00             1.8      0.075   \n",
      "...             ...               ...          ...             ...        ...   \n",
      "4926            6.2              0.21         0.29             1.6      0.039   \n",
      "4927            6.6              0.32         0.36             8.0      0.047   \n",
      "4928            6.5              0.24         0.19             1.2      0.041   \n",
      "4929            5.5              0.29         0.30             1.1      0.022   \n",
      "4930            6.0              0.21         0.38             0.8      0.020   \n",
      "\n",
      "      free sulfur dioxide  total sulfur dioxide  density    pH  sulphates  \\\n",
      "0                    11.0                  34.0  0.99780  3.51       0.56   \n",
      "1                    25.0                  67.0  0.99680  3.20       0.68   \n",
      "2                    15.0                  54.0  0.99700  3.26       0.65   \n",
      "3                    17.0                  60.0  0.99800  3.16       0.58   \n",
      "4                    13.0                  40.0  0.99780  3.51       0.56   \n",
      "...                   ...                   ...      ...   ...        ...   \n",
      "4926                 24.0                  92.0  0.99114  3.27       0.50   \n",
      "4927                 57.0                 168.0  0.99490  3.15       0.46   \n",
      "4928                 30.0                 111.0  0.99254  2.99       0.46   \n",
      "4929                 20.0                 110.0  0.98869  3.34       0.38   \n",
      "4930                 22.0                  98.0  0.98941  3.26       0.32   \n",
      "\n",
      "      alcohol  quality  is_red  \n",
      "0         9.4        5       1  \n",
      "1         9.8        5       1  \n",
      "2         9.8        5       1  \n",
      "3         9.8        6       1  \n",
      "4         9.4        5       1  \n",
      "...       ...      ...     ...  \n",
      "4926     11.2        6       0  \n",
      "4927      9.6        5       0  \n",
      "4928      9.4        6       0  \n",
      "4929     12.8        7       0  \n",
      "4930     11.8        6       0  \n",
      "\n",
      "[4931 rows x 13 columns]\n"
     ]
    }
   ],
   "source": [
    "## Please uncomment all lines in this cell and replace those marked with `# YOUR CODE HERE`.\n",
    "## You can select all lines in this code cell with Ctrl+A (Windows/Linux) or Cmd+A (Mac), then press Ctrl+/ (Windows/Linux) or Cmd+/ (Mac) to uncomment.\n",
    "\n",
    "\n",
    "\n",
    "# # get data with wine quality greater than 4 and less than 8\n",
    "df = df[(df['quality'] > 4) & (df['quality'] < 8 )]\n",
    "\n",
    "# # reset index and drop the old one\n",
    "df = df.reset_index(drop=True)\n",
    "print(df)"
   ]
  },
  {
   "cell_type": "code",
   "execution_count": 16,
   "metadata": {
    "deletable": false,
    "editable": false,
    "nbgrader": {
     "cell_type": "code",
     "checksum": "281e1d86a4803560ed5892cd7eda4c01",
     "grade": true,
     "grade_id": "cell-aed3da719d4682c7",
     "locked": true,
     "points": 1,
     "schema_version": 3,
     "solution": false,
     "task": false
    }
   },
   "outputs": [
    {
     "name": "stdout",
     "output_type": "stream",
     "text": [
      "\u001b[92m All public tests passed\n"
     ]
    }
   ],
   "source": [
    "utils.test_df_drop(df)\n",
    "\n"
   ]
  },
  {
   "cell_type": "code",
   "execution_count": 17,
   "metadata": {
    "colab": {},
    "colab_type": "code",
    "id": "xNR1iAlMRPXO"
   },
   "outputs": [
    {
     "name": "stdout",
     "output_type": "stream",
     "text": [
      "9.4\n",
      "10.9\n"
     ]
    }
   ],
   "source": [
    "print(df.alcohol[0])\n",
    "print(df.alcohol[100])\n",
    "\n",
    "# EXPECTED OUTPUT\n",
    "# 9.4\n",
    "# 10.9"
   ]
  },
  {
   "cell_type": "markdown",
   "metadata": {
    "colab_type": "text",
    "id": "cwhuRpnVRTzG"
   },
   "source": [
    "You can plot again to see the new range of data and quality"
   ]
  },
  {
   "cell_type": "code",
   "execution_count": 18,
   "metadata": {
    "colab": {},
    "colab_type": "code",
    "id": "857ygzZiLgGg"
   },
   "outputs": [
    {
     "data": {
      "image/png": "[encoded data removed]",
      "text/plain": [
       "<Figure size 432x288 with 1 Axes>"
      ]
     },
     "metadata": {
      "needs_background": "light"
     },
     "output_type": "display_data"
    }
   ],
   "source": [
    "df['quality'].hist(bins=20);"
   ]
  },
  {
   "cell_type": "markdown",
   "metadata": {
    "colab_type": "text",
    "id": "n3k0vqSsp84t"
   },
   "source": [
    "### Train Test Split (TODO)\n",
    "\n",
    "Next, you can split the datasets into training, test and validation datasets.\n",
    "- The data frame should be split 80:20 into `train` and `test` sets.\n",
    "- The resulting `train` should then be split 80:20 into `train` and `val` sets.\n",
    "- The `train_test_split` parameter `test_size` takes a float value that ranges between 0. and 1, and represents the proportion of the dataset that is allocated to the test set.  The rest of the data is allocated to the training set."
   ]
  },
  {
   "cell_type": "code",
   "execution_count": 19,
   "metadata": {
    "colab": {},
    "colab_type": "code",
    "deletable": false,
    "id": "PAVIf2-fgRVY",
    "nbgrader": {
     "cell_type": "code",
     "checksum": "7f5738f4fb51d65adc9a8acbdf2b9970",
     "grade": false,
     "grade_id": "cell-91946cadf745206b",
     "locked": false,
     "schema_version": 3,
     "solution": true,
     "task": false
    }
   },
   "outputs": [],
   "source": [
    "## Please uncomment all lines in this cell and replace those marked with `# YOUR CODE HERE`.\n",
    "## You can select all lines in this code cell with Ctrl+A (Windows/Linux) or Cmd+A (Mac), then press Ctrl+/ (Windows/Linux) or Cmd+/ (Mac) to uncomment.\n",
    "\n",
    "\n",
    "\n",
    "## Please do not change the random_state parameter. This is needed for grading.\n",
    "\n",
    "# # split df into 80:20 train and test sets\n",
    "train, test = train_test_split(df, test_size= 0.2, random_state = 1)\n",
    "                               \n",
    "# # split train into 80:20 train and val sets\n",
    "train, val = train_test_split(train, test_size= 0.2, random_state = 1)"
   ]
  },
  {
   "cell_type": "code",
   "execution_count": 20,
   "metadata": {
    "colab": {},
    "colab_type": "code",
    "deletable": false,
    "editable": false,
    "id": "57h9LcEzRWpk",
    "nbgrader": {
     "cell_type": "code",
     "checksum": "42adbe9e66efac7c7a5f8cd73ac92f22",
     "grade": true,
     "grade_id": "cell-64b8b38cd0b965f6",
     "locked": true,
     "points": 1,
     "schema_version": 3,
     "solution": false,
     "task": false
    }
   },
   "outputs": [
    {
     "name": "stdout",
     "output_type": "stream",
     "text": [
      "\u001b[92m All public tests passed\n"
     ]
    }
   ],
   "source": [
    "utils.test_data_sizes(train.size, test.size, val.size)\n",
    "\n"
   ]
  },
  {
   "cell_type": "markdown",
   "metadata": {
    "colab_type": "text",
    "id": "RwTNu4KFqG-K"
   },
   "source": [
    "Here's where you can explore the training stats. You can pop the labels 'is_red' and 'quality' from the data as these will be used as the labels\n"
   ]
  },
  {
   "cell_type": "code",
   "execution_count": 21,
   "metadata": {
    "colab": {},
    "colab_type": "code",
    "id": "Y_afyhhHM6WQ"
   },
   "outputs": [],
   "source": [
    "train_stats = train.describe()\n",
    "train_stats.pop('is_red')\n",
    "train_stats.pop('quality')\n",
    "train_stats = train_stats.transpose()"
   ]
  },
  {
   "cell_type": "markdown",
   "metadata": {
    "colab_type": "text",
    "id": "ahvbYm4fNqSt"
   },
   "source": [
    "Explore the training stats!"
   ]
  },
  {
   "cell_type": "code",
   "execution_count": 22,
   "metadata": {
    "colab": {},
    "colab_type": "code",
    "id": "n_gAtPjZ0otF"
   },
   "outputs": [
    {
     "data": {
      "text/html": [
       "<div>\n",
       "<style scoped>\n",
       "    .dataframe tbody tr th:only-of-type {\n",
       "        vertical-align: middle;\n",
       "    }\n",
       "\n",
       "    .dataframe tbody tr th {\n",
       "        vertical-align: top;\n",
       "    }\n",
       "\n",
       "    .dataframe thead th {\n",
       "        text-align: right;\n",
       "    }\n",
       "</style>\n",
       "<table border=\"1\" class=\"dataframe\">\n",
       "  <thead>\n",
       "    <tr style=\"text-align: right;\">\n",
       "      <th></th>\n",
       "      <th>count</th>\n",
       "      <th>mean</th>\n",
       "      <th>std</th>\n",
       "      <th>min</th>\n",
       "      <th>25%</th>\n",
       "      <th>50%</th>\n",
       "      <th>75%</th>\n",
       "      <th>max</th>\n",
       "    </tr>\n",
       "  </thead>\n",
       "  <tbody>\n",
       "    <tr>\n",
       "      <th>fixed acidity</th>\n",
       "      <td>3155.0</td>\n",
       "      <td>7.221616</td>\n",
       "      <td>1.325297</td>\n",
       "      <td>3.80000</td>\n",
       "      <td>6.40000</td>\n",
       "      <td>7.00000</td>\n",
       "      <td>7.7000</td>\n",
       "      <td>15.60000</td>\n",
       "    </tr>\n",
       "    <tr>\n",
       "      <th>volatile acidity</th>\n",
       "      <td>3155.0</td>\n",
       "      <td>0.338929</td>\n",
       "      <td>0.162476</td>\n",
       "      <td>0.08000</td>\n",
       "      <td>0.23000</td>\n",
       "      <td>0.29000</td>\n",
       "      <td>0.4000</td>\n",
       "      <td>1.24000</td>\n",
       "    </tr>\n",
       "    <tr>\n",
       "      <th>citric acid</th>\n",
       "      <td>3155.0</td>\n",
       "      <td>0.321569</td>\n",
       "      <td>0.147970</td>\n",
       "      <td>0.00000</td>\n",
       "      <td>0.25000</td>\n",
       "      <td>0.31000</td>\n",
       "      <td>0.4000</td>\n",
       "      <td>1.66000</td>\n",
       "    </tr>\n",
       "    <tr>\n",
       "      <th>residual sugar</th>\n",
       "      <td>3155.0</td>\n",
       "      <td>5.155911</td>\n",
       "      <td>4.639632</td>\n",
       "      <td>0.60000</td>\n",
       "      <td>1.80000</td>\n",
       "      <td>2.80000</td>\n",
       "      <td>7.6500</td>\n",
       "      <td>65.80000</td>\n",
       "    </tr>\n",
       "    <tr>\n",
       "      <th>chlorides</th>\n",
       "      <td>3155.0</td>\n",
       "      <td>0.056976</td>\n",
       "      <td>0.036802</td>\n",
       "      <td>0.01200</td>\n",
       "      <td>0.03800</td>\n",
       "      <td>0.04700</td>\n",
       "      <td>0.0660</td>\n",
       "      <td>0.61100</td>\n",
       "    </tr>\n",
       "    <tr>\n",
       "      <th>free sulfur dioxide</th>\n",
       "      <td>3155.0</td>\n",
       "      <td>30.388590</td>\n",
       "      <td>17.236784</td>\n",
       "      <td>1.00000</td>\n",
       "      <td>17.00000</td>\n",
       "      <td>28.00000</td>\n",
       "      <td>41.0000</td>\n",
       "      <td>131.00000</td>\n",
       "    </tr>\n",
       "    <tr>\n",
       "      <th>total sulfur dioxide</th>\n",
       "      <td>3155.0</td>\n",
       "      <td>115.062282</td>\n",
       "      <td>56.706617</td>\n",
       "      <td>6.00000</td>\n",
       "      <td>75.00000</td>\n",
       "      <td>117.00000</td>\n",
       "      <td>156.0000</td>\n",
       "      <td>344.00000</td>\n",
       "    </tr>\n",
       "    <tr>\n",
       "      <th>density</th>\n",
       "      <td>3155.0</td>\n",
       "      <td>0.994633</td>\n",
       "      <td>0.003005</td>\n",
       "      <td>0.98711</td>\n",
       "      <td>0.99232</td>\n",
       "      <td>0.99481</td>\n",
       "      <td>0.9968</td>\n",
       "      <td>1.03898</td>\n",
       "    </tr>\n",
       "    <tr>\n",
       "      <th>pH</th>\n",
       "      <td>3155.0</td>\n",
       "      <td>3.223201</td>\n",
       "      <td>0.161272</td>\n",
       "      <td>2.72000</td>\n",
       "      <td>3.11000</td>\n",
       "      <td>3.21000</td>\n",
       "      <td>3.3300</td>\n",
       "      <td>4.01000</td>\n",
       "    </tr>\n",
       "    <tr>\n",
       "      <th>sulphates</th>\n",
       "      <td>3155.0</td>\n",
       "      <td>0.534051</td>\n",
       "      <td>0.149149</td>\n",
       "      <td>0.22000</td>\n",
       "      <td>0.43000</td>\n",
       "      <td>0.51000</td>\n",
       "      <td>0.6000</td>\n",
       "      <td>1.95000</td>\n",
       "    </tr>\n",
       "    <tr>\n",
       "      <th>alcohol</th>\n",
       "      <td>3155.0</td>\n",
       "      <td>10.504466</td>\n",
       "      <td>1.154654</td>\n",
       "      <td>8.50000</td>\n",
       "      <td>9.50000</td>\n",
       "      <td>10.30000</td>\n",
       "      <td>11.3000</td>\n",
       "      <td>14.00000</td>\n",
       "    </tr>\n",
       "  </tbody>\n",
       "</table>\n",
       "</div>"
      ],
      "text/plain": [
       "                       count        mean        std      min       25%  \\\n",
       "fixed acidity         3155.0    7.221616   1.325297  3.80000   6.40000   \n",
       "volatile acidity      3155.0    0.338929   0.162476  0.08000   0.23000   \n",
       "citric acid           3155.0    0.321569   0.147970  0.00000   0.25000   \n",
       "residual sugar        3155.0    5.155911   4.639632  0.60000   1.80000   \n",
       "chlorides             3155.0    0.056976   0.036802  0.01200   0.03800   \n",
       "free sulfur dioxide   3155.0   30.388590  17.236784  1.00000  17.00000   \n",
       "total sulfur dioxide  3155.0  115.062282  56.706617  6.00000  75.00000   \n",
       "density               3155.0    0.994633   0.003005  0.98711   0.99232   \n",
       "pH                    3155.0    3.223201   0.161272  2.72000   3.11000   \n",
       "sulphates             3155.0    0.534051   0.149149  0.22000   0.43000   \n",
       "alcohol               3155.0   10.504466   1.154654  8.50000   9.50000   \n",
       "\n",
       "                            50%       75%        max  \n",
       "fixed acidity           7.00000    7.7000   15.60000  \n",
       "volatile acidity        0.29000    0.4000    1.24000  \n",
       "citric acid             0.31000    0.4000    1.66000  \n",
       "residual sugar          2.80000    7.6500   65.80000  \n",
       "chlorides               0.04700    0.0660    0.61100  \n",
       "free sulfur dioxide    28.00000   41.0000  131.00000  \n",
       "total sulfur dioxide  117.00000  156.0000  344.00000  \n",
       "density                 0.99481    0.9968    1.03898  \n",
       "pH                      3.21000    3.3300    4.01000  \n",
       "sulphates               0.51000    0.6000    1.95000  \n",
       "alcohol                10.30000   11.3000   14.00000  "
      ]
     },
     "execution_count": 22,
     "metadata": {},
     "output_type": "execute_result"
    }
   ],
   "source": [
    "train_stats"
   ]
  },
  {
   "cell_type": "markdown",
   "metadata": {
    "colab_type": "text",
    "id": "bGPvt9jir_HC"
   },
   "source": [
    "### Get the labels (TODO)\n",
    "\n",
    "The features and labels are currently in the same dataframe.\n",
    "- You will want to store the label columns `is_red` and `quality` separately from the feature columns.  \n",
    "- The following function, `format_output`, gets these two columns from the dataframe (it's given to you).\n",
    "- `format_output` also formats the data into numpy arrays. \n",
    "- Please use the `format_output` and apply it to the `train`, `val` and `test` sets to get dataframes for the labels."
   ]
  },
  {
   "cell_type": "code",
   "execution_count": 23,
   "metadata": {
    "colab": {},
    "colab_type": "code",
    "id": "Z_fs14XQqZVP"
   },
   "outputs": [],
   "source": [
    "def format_output(data):\n",
    "    is_red = data.pop('is_red')\n",
    "    is_red = np.array(is_red)\n",
    "    quality = data.pop('quality')\n",
    "    quality = np.array(quality)\n",
    "    return (quality, is_red)"
   ]
  },
  {
   "cell_type": "code",
   "execution_count": 24,
   "metadata": {
    "colab": {},
    "colab_type": "code",
    "deletable": false,
    "id": "8L3ZZe1fQicm",
    "nbgrader": {
     "cell_type": "code",
     "checksum": "7a86809e54895a816434c48dc903f55d",
     "grade": false,
     "grade_id": "cell-5c30fa2c2a354b0f",
     "locked": false,
     "schema_version": 3,
     "solution": true,
     "task": false
    }
   },
   "outputs": [],
   "source": [
    "## Please uncomment all lines in this cell and replace those marked with `# YOUR CODE HERE`.\n",
    "## You can select all lines in this code cell with Ctrl+A (Windows/Linux) or Cmd+A (Mac), then press Ctrl+/ (Windows/Linux) or Cmd+/ (Mac) to uncomment.\n",
    "\n",
    "\n",
    "\n",
    "# # format the output of the train set\n",
    "train_Y = format_output(train)\n",
    "\n",
    "# # format the output of the val set\n",
    "val_Y = format_output(val)\n",
    "    \n",
    "# # format the output of the test set\n",
    "test_Y = format_output(test)"
   ]
  },
  {
   "cell_type": "code",
   "execution_count": 25,
   "metadata": {
    "deletable": false,
    "editable": false,
    "nbgrader": {
     "cell_type": "code",
     "checksum": "359cabbafaed14ec9bbc1e57a7b6f32c",
     "grade": true,
     "grade_id": "cell-4977d8befb80f56b",
     "locked": true,
     "points": 1,
     "schema_version": 3,
     "solution": false,
     "task": false
    }
   },
   "outputs": [
    {
     "name": "stdout",
     "output_type": "stream",
     "text": [
      "\u001b[92m All public tests passed\n"
     ]
    }
   ],
   "source": [
    "utils.test_format_output(df, train_Y, val_Y, test_Y)"
   ]
  },
  {
   "cell_type": "markdown",
   "metadata": {},
   "source": [
    "Notice that after you get the labels, the `train`, `val` and `test` dataframes no longer contain the label columns, and contain just the feature columns.\n",
    "- This is because you used `.pop` in the `format_output` function."
   ]
  },
  {
   "cell_type": "code",
   "execution_count": 26,
   "metadata": {},
   "outputs": [
    {
     "data": {
      "text/html": [
       "<div>\n",
       "<style scoped>\n",
       "    .dataframe tbody tr th:only-of-type {\n",
       "        vertical-align: middle;\n",
       "    }\n",
       "\n",
       "    .dataframe tbody tr th {\n",
       "        vertical-align: top;\n",
       "    }\n",
       "\n",
       "    .dataframe thead th {\n",
       "        text-align: right;\n",
       "    }\n",
       "</style>\n",
       "<table border=\"1\" class=\"dataframe\">\n",
       "  <thead>\n",
       "    <tr style=\"text-align: right;\">\n",
       "      <th></th>\n",
       "      <th>fixed acidity</th>\n",
       "      <th>volatile acidity</th>\n",
       "      <th>citric acid</th>\n",
       "      <th>residual sugar</th>\n",
       "      <th>chlorides</th>\n",
       "      <th>free sulfur dioxide</th>\n",
       "      <th>total sulfur dioxide</th>\n",
       "      <th>density</th>\n",
       "      <th>pH</th>\n",
       "      <th>sulphates</th>\n",
       "      <th>alcohol</th>\n",
       "    </tr>\n",
       "  </thead>\n",
       "  <tbody>\n",
       "    <tr>\n",
       "      <th>225</th>\n",
       "      <td>7.5</td>\n",
       "      <td>0.65</td>\n",
       "      <td>0.18</td>\n",
       "      <td>7.0</td>\n",
       "      <td>0.088</td>\n",
       "      <td>27.0</td>\n",
       "      <td>94.0</td>\n",
       "      <td>0.99915</td>\n",
       "      <td>3.38</td>\n",
       "      <td>0.77</td>\n",
       "      <td>9.4</td>\n",
       "    </tr>\n",
       "    <tr>\n",
       "      <th>3557</th>\n",
       "      <td>6.3</td>\n",
       "      <td>0.27</td>\n",
       "      <td>0.29</td>\n",
       "      <td>12.2</td>\n",
       "      <td>0.044</td>\n",
       "      <td>59.0</td>\n",
       "      <td>196.0</td>\n",
       "      <td>0.99782</td>\n",
       "      <td>3.14</td>\n",
       "      <td>0.40</td>\n",
       "      <td>8.8</td>\n",
       "    </tr>\n",
       "    <tr>\n",
       "      <th>3825</th>\n",
       "      <td>8.8</td>\n",
       "      <td>0.27</td>\n",
       "      <td>0.25</td>\n",
       "      <td>5.0</td>\n",
       "      <td>0.024</td>\n",
       "      <td>52.0</td>\n",
       "      <td>99.0</td>\n",
       "      <td>0.99250</td>\n",
       "      <td>2.87</td>\n",
       "      <td>0.49</td>\n",
       "      <td>11.4</td>\n",
       "    </tr>\n",
       "    <tr>\n",
       "      <th>1740</th>\n",
       "      <td>6.4</td>\n",
       "      <td>0.45</td>\n",
       "      <td>0.07</td>\n",
       "      <td>1.1</td>\n",
       "      <td>0.030</td>\n",
       "      <td>10.0</td>\n",
       "      <td>131.0</td>\n",
       "      <td>0.99050</td>\n",
       "      <td>2.97</td>\n",
       "      <td>0.28</td>\n",
       "      <td>10.8</td>\n",
       "    </tr>\n",
       "    <tr>\n",
       "      <th>1221</th>\n",
       "      <td>7.2</td>\n",
       "      <td>0.53</td>\n",
       "      <td>0.13</td>\n",
       "      <td>2.0</td>\n",
       "      <td>0.058</td>\n",
       "      <td>18.0</td>\n",
       "      <td>22.0</td>\n",
       "      <td>0.99573</td>\n",
       "      <td>3.21</td>\n",
       "      <td>0.68</td>\n",
       "      <td>9.9</td>\n",
       "    </tr>\n",
       "  </tbody>\n",
       "</table>\n",
       "</div>"
      ],
      "text/plain": [
       "      fixed acidity  volatile acidity  citric acid  residual sugar  chlorides  \\\n",
       "225             7.5              0.65         0.18             7.0      0.088   \n",
       "3557            6.3              0.27         0.29            12.2      0.044   \n",
       "3825            8.8              0.27         0.25             5.0      0.024   \n",
       "1740            6.4              0.45         0.07             1.1      0.030   \n",
       "1221            7.2              0.53         0.13             2.0      0.058   \n",
       "\n",
       "      free sulfur dioxide  total sulfur dioxide  density    pH  sulphates  \\\n",
       "225                  27.0                  94.0  0.99915  3.38       0.77   \n",
       "3557                 59.0                 196.0  0.99782  3.14       0.40   \n",
       "3825                 52.0                  99.0  0.99250  2.87       0.49   \n",
       "1740                 10.0                 131.0  0.99050  2.97       0.28   \n",
       "1221                 18.0                  22.0  0.99573  3.21       0.68   \n",
       "\n",
       "      alcohol  \n",
       "225       9.4  \n",
       "3557      8.8  \n",
       "3825     11.4  \n",
       "1740     10.8  \n",
       "1221      9.9  "
      ]
     },
     "execution_count": 26,
     "metadata": {},
     "output_type": "execute_result"
    }
   ],
   "source": [
    "train.head()"
   ]
  },
  {
   "cell_type": "markdown",
   "metadata": {
    "colab_type": "text",
    "id": "hEdbrruAsN1D"
   },
   "source": [
    "### Normalize the data (TODO)\n",
    "\n",
    "Next, you can normalize the data, x, using the formula:\n",
    "$$x_{norm} = \\frac{x - \\mu}{\\sigma}$$\n",
    "- The `norm` function is defined for you.\n",
    "- Please apply the `norm` function to normalize the dataframes that contains the feature columns of `train`, `val` and `test` sets."
   ]
  },
  {
   "cell_type": "code",
   "execution_count": 27,
   "metadata": {
    "colab": {},
    "colab_type": "code",
    "id": "WWiZPAHCLjUs"
   },
   "outputs": [],
   "source": [
    "def norm(x):\n",
    "    return (x - train_stats['mean']) / train_stats['std']"
   ]
  },
  {
   "cell_type": "code",
   "execution_count": 28,
   "metadata": {
    "colab": {},
    "colab_type": "code",
    "deletable": false,
    "id": "JEaOi2I2Lk69",
    "nbgrader": {
     "cell_type": "code",
     "checksum": "6bc0cdcb563d192f271067aa3373ff32",
     "grade": false,
     "grade_id": "cell-d8416d975c371095",
     "locked": false,
     "schema_version": 3,
     "solution": true,
     "task": false
    }
   },
   "outputs": [],
   "source": [
    "## Please uncomment all lines in this cell and replace those marked with `# YOUR CODE HERE`.\n",
    "## You can select all lines in this code cell with Ctrl+A (Windows/Linux) or Cmd+A (Mac), then press Ctrl+/ (Windows/Linux) or Cmd+/ (Mac) to uncomment.\n",
    "\n",
    "\n",
    "\n",
    "# # normalize the train set\n",
    "norm_train_X = norm(train)\n",
    "    \n",
    "# # normalize the val set\n",
    "norm_val_X = norm(val)\n",
    "    \n",
    "# # normalize the test set\n",
    "norm_test_X = norm(test)"
   ]
  },
  {
   "cell_type": "code",
   "execution_count": 29,
   "metadata": {
    "deletable": false,
    "editable": false,
    "nbgrader": {
     "cell_type": "code",
     "checksum": "4f567db45bf40191601780379cc100b8",
     "grade": true,
     "grade_id": "cell-97fad979d157529b",
     "locked": true,
     "points": 1,
     "schema_version": 3,
     "solution": false,
     "task": false
    }
   },
   "outputs": [
    {
     "name": "stdout",
     "output_type": "stream",
     "text": [
      "\u001b[92m All public tests passed\n"
     ]
    }
   ],
   "source": [
    "utils.test_norm(norm_train_X, norm_val_X, norm_test_X, train, val, test)\n"
   ]
  },
  {
   "cell_type": "markdown",
   "metadata": {
    "colab_type": "text",
    "id": "hzykDwQhsaPO"
   },
   "source": [
    "## Define the Model (TODO)\n",
    "\n",
    "Define the model using the functional API. The base model will be 2 `Dense` layers of 128 neurons each, and have the `'relu'` activation.\n",
    "- Check out the documentation for [tf.keras.layers.Dense](https://www.tensorflow.org/api_docs/python/tf/keras/layers/Dense)"
   ]
  },
  {
   "cell_type": "code",
   "execution_count": 65,
   "metadata": {
    "colab": {},
    "colab_type": "code",
    "deletable": false,
    "id": "Rhcns3oTFkM6",
    "nbgrader": {
     "cell_type": "code",
     "checksum": "74b031247e569526552bf13a034a1c07",
     "grade": false,
     "grade_id": "cell-73fceedad1fe351c",
     "locked": false,
     "schema_version": 3,
     "solution": true,
     "task": false
    }
   },
   "outputs": [],
   "source": [
    "## Please uncomment all lines in this cell and replace those marked with `# YOUR CODE HERE`.\n",
    "## You can select all lines in this code cell with Ctrl+A (Windows/Linux) or Cmd+A (Mac), then press Ctrl+/ (Windows/Linux) or Cmd+/ (Mac) to uncomment.\n",
    "\n",
    "\n",
    "\n",
    "def base_model(inputs):\n",
    "    \n",
    "     # connect a Dense layer with 128 neurons and a relu activation\n",
    "     x = Dense(128, activation='relu', input_shape = (inputs.shape[1],))(inputs) # YOUR CODE HERE\n",
    "    \n",
    "     # connect another Dense layer with 128 neurons and a relu activation\n",
    "     x = Dense(128, activation='relu')(x) # YOUR CODE HERE\n",
    "     return x\n",
    "  "
   ]
  },
  {
   "cell_type": "code",
   "execution_count": 66,
   "metadata": {
    "deletable": false,
    "editable": false,
    "nbgrader": {
     "cell_type": "code",
     "checksum": "9255924b3def80f679616e4c851a43e1",
     "grade": true,
     "grade_id": "cell-54f742a133353d75",
     "locked": true,
     "points": 1,
     "schema_version": 3,
     "solution": false,
     "task": false
    }
   },
   "outputs": [
    {
     "name": "stdout",
     "output_type": "stream",
     "text": [
      "\u001b[92m All public tests passed\n"
     ]
    }
   ],
   "source": [
    "utils.test_base_model(base_model)"
   ]
  },
  {
   "cell_type": "markdown",
   "metadata": {
    "colab_type": "text",
    "id": "xem_fcVws6Kz"
   },
   "source": [
    "# Define output layers of the model (TODO)\n",
    "\n",
    "You will add output layers to the base model. \n",
    "- The model will need two outputs.\n",
    "\n",
    "One output layer will predict wine quality, which is a numeric value.\n",
    "- Define a `Dense` layer with 1 neuron.\n",
    "- Since this is a regression output, the activation can be left as its default value `None`.\n",
    "\n",
    "The other output layer will predict the wine type, which is either red `1` or not red `0` (white).\n",
    "- Define a `Dense` layer with 1 neuron.\n",
    "- Since there are two possible categories, you can use a sigmoid activation for binary classification.\n",
    "\n",
    "Define the `Model`\n",
    "- Define the `Model` object, and set the following parameters:\n",
    "  - `inputs`: pass in the inputs to the model as a list.\n",
    "  - `outputs`: pass in a list of the outputs that you just defined: wine quality, then wine type.\n",
    "  - **Note**: please list the wine quality before wine type in the outputs, as this will affect the calculated loss if you choose the other order."
   ]
  },
  {
   "cell_type": "code",
   "execution_count": 67,
   "metadata": {
    "colab": {},
    "colab_type": "code",
    "deletable": false,
    "id": "n5UGF8PMVLPt",
    "nbgrader": {
     "cell_type": "code",
     "checksum": "76d35b90d20cdcbb22986cd8211057de",
     "grade": false,
     "grade_id": "cell-19e285f482f021fb",
     "locked": false,
     "schema_version": 3,
     "solution": true,
     "task": false
    }
   },
   "outputs": [],
   "source": [
    "## Please uncomment all lines in this cell and replace those marked with `# YOUR CODE HERE`.\n",
    "## You can select all lines in this code cell with Ctrl+A (Windows/Linux) or Cmd+A (Mac), then press Ctrl+/ (Windows/Linux) or Cmd+/ (Mac) to uncomment.\n",
    "\n",
    "\n",
    "\n",
    "def final_model(inputs):\n",
    "    \n",
    "     # get the base model\n",
    "     x = base_model(inputs)\n",
    "\n",
    "     # connect the output Dense layer for regression\n",
    "     wine_quality = Dense(units='1', name='wine_quality')(x)\n",
    "\n",
    "     # connect the output Dense layer for classification. this will use a sigmoid activation.\n",
    "     wine_type = Dense(units='1', activation='sigmoid', name='wine_type')(x)\n",
    "\n",
    "     # define the model using the input and output layers\n",
    "     model = Model(inputs=inputs, outputs=[wine_quality, wine_type])\n",
    "\n",
    "     return model"
   ]
  },
  {
   "cell_type": "code",
   "execution_count": 68,
   "metadata": {
    "deletable": false,
    "editable": false,
    "nbgrader": {
     "cell_type": "code",
     "checksum": "89cbf89d8ab5e2e59ecf7f63f517520a",
     "grade": true,
     "grade_id": "cell-40d050f855c817d1",
     "locked": true,
     "points": 1,
     "schema_version": 3,
     "solution": false,
     "task": false
    }
   },
   "outputs": [
    {
     "name": "stdout",
     "output_type": "stream",
     "text": [
      "\u001b[92m All public tests passed\n"
     ]
    }
   ],
   "source": [
    "utils.test_final_model(final_model)"
   ]
  },
  {
   "cell_type": "markdown",
   "metadata": {
    "colab_type": "text",
    "id": "5R0BMTsltZyu"
   },
   "source": [
    "## Compiling the Model\n",
    "\n",
    "Next, compile the model. When setting the loss parameter of `model.compile`, you're setting the loss for each of the two outputs (wine quality and wine type).\n",
    "\n",
    "To set more than one loss, use a dictionary of key-value pairs.\n",
    "- You can look at the docs for the losses [here](https://www.tensorflow.org/api_docs/python/tf/keras/losses#functions).\n",
    "    - **Note**: For the desired spelling, please look at the \"Functions\" section of the documentation and not the \"classes\" section on that same page.\n",
    "- wine_type: Since you will be performing binary classification on wine type, you should use the binary crossentropy loss function for it.  Please pass this in as a string.  \n",
    "  - **Hint**, this should be all lowercase.  In the documentation, you'll see this under the \"Functions\" section, not the \"Classes\" section.\n",
    "- wine_quality: since this is a regression output, use the mean squared error.  Please pass it in as a string, all lowercase.\n",
    "  - **Hint**: You may notice that there are two aliases for mean squared error.  Please use the shorter name.\n",
    "\n",
    "\n",
    "You will also set the metric for each of the two outputs.  Again, to set metrics for two or more outputs, use a dictionary with key value pairs.\n",
    "- The metrics documentation is linked [here](https://www.tensorflow.org/api_docs/python/tf/keras/metrics).\n",
    "- For the wine type, please set it to accuracy as a string, all lowercase.\n",
    "- For wine quality, please use the root mean squared error.  Instead of a string, you'll set it to an instance of the class [RootMeanSquaredError](https://www.tensorflow.org/api_docs/python/tf/keras/metrics/RootMeanSquaredError), which belongs to the tf.keras.metrics module.\n",
    "\n",
    "**Note**: If you see the error message \n",
    ">Exception: wine quality loss function is incorrect.\n",
    "\n",
    "- Please also check your other losses and metrics, as the error may be caused by the other three key-value pairs and not the wine quality loss."
   ]
  },
  {
   "cell_type": "code",
   "execution_count": 69,
   "metadata": {
    "colab": {},
    "colab_type": "code",
    "deletable": false,
    "id": "LK11duUbUjmh",
    "nbgrader": {
     "cell_type": "code",
     "checksum": "22f45067ca69eb2ccadb43874dbcc27b",
     "grade": false,
     "grade_id": "cell-81afdc4dcca51d5e",
     "locked": false,
     "schema_version": 3,
     "solution": true,
     "task": false
    }
   },
   "outputs": [],
   "source": [
    "## Please uncomment all lines in this cell and replace those marked with `# YOUR CODE HERE`.\n",
    "## You can select all lines in this code cell with Ctrl+A (Windows/Linux) or Cmd+A (Mac), then press Ctrl+/ (Windows/Linux) or Cmd+/ (Mac) to uncomment.\n",
    "\n",
    "\n",
    "\n",
    "inputs = tf.keras.layers.Input(shape=(11,))\n",
    "rms = tf.keras.optimizers.RMSprop(lr=0.0001)\n",
    "model = final_model(inputs)\n",
    "\n",
    "model.compile(optimizer=rms, \n",
    "               loss = {'wine_type' :'binary_crossentropy',\n",
    "                       'wine_quality' : 'mse'\n",
    "                      },\n",
    "               metrics = {'wine_type' : 'accuracy',\n",
    "                          'wine_quality': tf.keras.metrics.RootMeanSquaredError()\n",
    "                        }\n",
    "              )\n"
   ]
  },
  {
   "cell_type": "code",
   "execution_count": 70,
   "metadata": {
    "deletable": false,
    "editable": false,
    "nbgrader": {
     "cell_type": "code",
     "checksum": "88e02238ea5e456ff65e835cc8158054",
     "grade": true,
     "grade_id": "cell-2eeeba02391c4632",
     "locked": true,
     "points": 1,
     "schema_version": 3,
     "solution": false,
     "task": false
    }
   },
   "outputs": [
    {
     "name": "stdout",
     "output_type": "stream",
     "text": [
      "\u001b[92m All public tests passed\n"
     ]
    }
   ],
   "source": [
    "utils.test_model_compile(model)"
   ]
  },
  {
   "cell_type": "markdown",
   "metadata": {
    "colab_type": "text",
    "id": "90MpAMpWuKm-"
   },
   "source": [
    "## Training the Model\n",
    "\n",
    "Fit the model to the training inputs and outputs. \n",
    "- Check the documentation for [model.fit](https://www.tensorflow.org/api_docs/python/tf/keras/Model#fit).\n",
    "- Remember to use the normalized training set as inputs. \n",
    "- For the validation data, please use the normalized validation set."
   ]
  },
  {
   "cell_type": "code",
   "execution_count": 71,
   "metadata": {
    "colab": {},
    "colab_type": "code",
    "deletable": false,
    "id": "_eiZkle4XwiY",
    "nbgrader": {
     "cell_type": "code",
     "checksum": "2ca7664be03bfd6fd3651ae44d17b793",
     "grade": false,
     "grade_id": "cell-0bb56262896f6680",
     "locked": false,
     "schema_version": 3,
     "solution": true,
     "task": false
    }
   },
   "outputs": [
    {
     "name": "stdout",
     "output_type": "stream",
     "text": [
      "Train on 3155 samples, validate on 789 samples\n",
      "Epoch 1/180\n",
      "3155/3155 [==============================] - 1s 335us/sample - loss: 25.7807 - wine_quality_loss: 25.0977 - wine_type_loss: 0.6624 - wine_quality_root_mean_squared_error: 5.0118 - wine_type_accuracy: 0.7100 - val_loss: 18.2333 - val_wine_quality_loss: 17.6043 - val_wine_type_loss: 0.6407 - val_wine_quality_root_mean_squared_error: 4.1944 - val_wine_type_accuracy: 0.7313\n",
      "Epoch 2/180\n",
      "3155/3155 [==============================] - 0s 115us/sample - loss: 11.7228 - wine_quality_loss: 11.1034 - wine_type_loss: 0.6014 - wine_quality_root_mean_squared_error: 3.3348 - wine_type_accuracy: 0.7439 - val_loss: 6.2435 - val_wine_quality_loss: 5.7017 - val_wine_type_loss: 0.5736 - val_wine_quality_root_mean_squared_error: 2.3812 - val_wine_type_accuracy: 0.7338\n",
      "Epoch 3/180\n",
      "3155/3155 [==============================] - 0s 96us/sample - loss: 3.8264 - wine_quality_loss: 3.3134 - wine_type_loss: 0.5115 - wine_quality_root_mean_squared_error: 1.8206 - wine_type_accuracy: 0.7442 - val_loss: 2.6203 - val_wine_quality_loss: 2.1972 - val_wine_type_loss: 0.4561 - val_wine_quality_root_mean_squared_error: 1.4711 - val_wine_type_accuracy: 0.7338\n",
      "Epoch 4/180\n",
      "3155/3155 [==============================] - 0s 97us/sample - loss: 2.4345 - wine_quality_loss: 2.0520 - wine_type_loss: 0.3857 - wine_quality_root_mean_squared_error: 1.4312 - wine_type_accuracy: 0.7895 - val_loss: 2.1775 - val_wine_quality_loss: 1.8580 - val_wine_type_loss: 0.3421 - val_wine_quality_root_mean_squared_error: 1.3548 - val_wine_type_accuracy: 0.8517\n",
      "Epoch 5/180\n",
      "3155/3155 [==============================] - 0s 97us/sample - loss: 2.0691 - wine_quality_loss: 1.7806 - wine_type_loss: 0.2874 - wine_quality_root_mean_squared_error: 1.3347 - wine_type_accuracy: 0.9055 - val_loss: 1.8894 - val_wine_quality_loss: 1.6507 - val_wine_type_loss: 0.2542 - val_wine_quality_root_mean_squared_error: 1.2787 - val_wine_type_accuracy: 0.9518\n",
      "Epoch 6/180\n",
      "3155/3155 [==============================] - 0s 96us/sample - loss: 1.8131 - wine_quality_loss: 1.5972 - wine_type_loss: 0.2162 - wine_quality_root_mean_squared_error: 1.2637 - wine_type_accuracy: 0.9664 - val_loss: 1.6867 - val_wine_quality_loss: 1.5053 - val_wine_type_loss: 0.1917 - val_wine_quality_root_mean_squared_error: 1.2227 - val_wine_type_accuracy: 0.9797\n",
      "Epoch 7/180\n",
      "3155/3155 [==============================] - 0s 94us/sample - loss: 1.6275 - wine_quality_loss: 1.4597 - wine_type_loss: 0.1655 - wine_quality_root_mean_squared_error: 1.2090 - wine_type_accuracy: 0.9823 - val_loss: 1.5262 - val_wine_quality_loss: 1.3842 - val_wine_type_loss: 0.1501 - val_wine_quality_root_mean_squared_error: 1.1730 - val_wine_type_accuracy: 0.9835\n",
      "Epoch 8/180\n",
      "3155/3155 [==============================] - 0s 93us/sample - loss: 1.4910 - wine_quality_loss: 1.3617 - wine_type_loss: 0.1312 - wine_quality_root_mean_squared_error: 1.1661 - wine_type_accuracy: 0.9857 - val_loss: 1.4068 - val_wine_quality_loss: 1.2934 - val_wine_type_loss: 0.1191 - val_wine_quality_root_mean_squared_error: 1.1346 - val_wine_type_accuracy: 0.9848\n",
      "Epoch 9/180\n",
      "3155/3155 [==============================] - 0s 93us/sample - loss: 1.3756 - wine_quality_loss: 1.2672 - wine_type_loss: 0.1073 - wine_quality_root_mean_squared_error: 1.1263 - wine_type_accuracy: 0.9873 - val_loss: 1.3005 - val_wine_quality_loss: 1.2069 - val_wine_type_loss: 0.0981 - val_wine_quality_root_mean_squared_error: 1.0964 - val_wine_type_accuracy: 0.9886\n",
      "Epoch 10/180\n",
      "3155/3155 [==============================] - 0s 92us/sample - loss: 1.2749 - wine_quality_loss: 1.1863 - wine_type_loss: 0.0898 - wine_quality_root_mean_squared_error: 1.0886 - wine_type_accuracy: 0.9895 - val_loss: 1.2111 - val_wine_quality_loss: 1.1312 - val_wine_type_loss: 0.0828 - val_wine_quality_root_mean_squared_error: 1.0621 - val_wine_type_accuracy: 0.9886\n",
      "Epoch 11/180\n",
      "3155/3155 [==============================] - 0s 77us/sample - loss: 1.1935 - wine_quality_loss: 1.1156 - wine_type_loss: 0.0774 - wine_quality_root_mean_squared_error: 1.0564 - wine_type_accuracy: 0.9902 - val_loss: 1.1231 - val_wine_quality_loss: 1.0538 - val_wine_type_loss: 0.0720 - val_wine_quality_root_mean_squared_error: 1.0251 - val_wine_type_accuracy: 0.9899\n",
      "Epoch 12/180\n",
      "3155/3155 [==============================] - 0s 79us/sample - loss: 1.1170 - wine_quality_loss: 1.0543 - wine_type_loss: 0.0684 - wine_quality_root_mean_squared_error: 1.0239 - wine_type_accuracy: 0.9908 - val_loss: 1.0466 - val_wine_quality_loss: 0.9844 - val_wine_type_loss: 0.0640 - val_wine_quality_root_mean_squared_error: 0.9911 - val_wine_type_accuracy: 0.9899\n",
      "Epoch 13/180\n",
      "3155/3155 [==============================] - 0s 93us/sample - loss: 1.0508 - wine_quality_loss: 0.9884 - wine_type_loss: 0.0617 - wine_quality_root_mean_squared_error: 0.9944 - wine_type_accuracy: 0.9908 - val_loss: 0.9864 - val_wine_quality_loss: 0.9297 - val_wine_type_loss: 0.0579 - val_wine_quality_root_mean_squared_error: 0.9634 - val_wine_type_accuracy: 0.9899\n",
      "Epoch 14/180\n",
      "3155/3155 [==============================] - 0s 93us/sample - loss: 0.9893 - wine_quality_loss: 0.9313 - wine_type_loss: 0.0566 - wine_quality_root_mean_squared_error: 0.9657 - wine_type_accuracy: 0.9911 - val_loss: 0.9295 - val_wine_quality_loss: 0.8768 - val_wine_type_loss: 0.0534 - val_wine_quality_root_mean_squared_error: 0.9358 - val_wine_type_accuracy: 0.9911\n",
      "Epoch 15/180\n",
      "3155/3155 [==============================] - 0s 94us/sample - loss: 0.9356 - wine_quality_loss: 0.8826 - wine_type_loss: 0.0530 - wine_quality_root_mean_squared_error: 0.9395 - wine_type_accuracy: 0.9911 - val_loss: 0.8756 - val_wine_quality_loss: 0.8258 - val_wine_type_loss: 0.0499 - val_wine_quality_root_mean_squared_error: 0.9085 - val_wine_type_accuracy: 0.9924\n",
      "Epoch 16/180\n",
      "3155/3155 [==============================] - 0s 93us/sample - loss: 0.8814 - wine_quality_loss: 0.8313 - wine_type_loss: 0.0499 - wine_quality_root_mean_squared_error: 0.9119 - wine_type_accuracy: 0.9911 - val_loss: 0.8302 - val_wine_quality_loss: 0.7830 - val_wine_type_loss: 0.0470 - val_wine_quality_root_mean_squared_error: 0.8848 - val_wine_type_accuracy: 0.9937\n",
      "Epoch 17/180\n",
      "3155/3155 [==============================] - 0s 91us/sample - loss: 0.8373 - wine_quality_loss: 0.7886 - wine_type_loss: 0.0474 - wine_quality_root_mean_squared_error: 0.8888 - wine_type_accuracy: 0.9911 - val_loss: 0.7915 - val_wine_quality_loss: 0.7455 - val_wine_type_loss: 0.0449 - val_wine_quality_root_mean_squared_error: 0.8638 - val_wine_type_accuracy: 0.9924\n",
      "Epoch 18/180\n",
      "3155/3155 [==============================] - 0s 94us/sample - loss: 0.7904 - wine_quality_loss: 0.7453 - wine_type_loss: 0.0452 - wine_quality_root_mean_squared_error: 0.8632 - wine_type_accuracy: 0.9911 - val_loss: 0.7547 - val_wine_quality_loss: 0.7104 - val_wine_type_loss: 0.0432 - val_wine_quality_root_mean_squared_error: 0.8433 - val_wine_type_accuracy: 0.9924\n",
      "Epoch 19/180\n",
      "3155/3155 [==============================] - 0s 76us/sample - loss: 0.7522 - wine_quality_loss: 0.7086 - wine_type_loss: 0.0449 - wine_quality_root_mean_squared_error: 0.8418 - wine_type_accuracy: 0.9911 - val_loss: 0.7085 - val_wine_quality_loss: 0.6657 - val_wine_type_loss: 0.0416 - val_wine_quality_root_mean_squared_error: 0.8164 - val_wine_type_accuracy: 0.9924\n",
      "Epoch 20/180\n",
      "3155/3155 [==============================] - 0s 94us/sample - loss: 0.7152 - wine_quality_loss: 0.6739 - wine_type_loss: 0.0420 - wine_quality_root_mean_squared_error: 0.8205 - wine_type_accuracy: 0.9918 - val_loss: 0.6790 - val_wine_quality_loss: 0.6372 - val_wine_type_loss: 0.0406 - val_wine_quality_root_mean_squared_error: 0.7988 - val_wine_type_accuracy: 0.9924\n",
      "Epoch 21/180\n",
      "3155/3155 [==============================] - 0s 94us/sample - loss: 0.6791 - wine_quality_loss: 0.6387 - wine_type_loss: 0.0408 - wine_quality_root_mean_squared_error: 0.7990 - wine_type_accuracy: 0.9918 - val_loss: 0.6520 - val_wine_quality_loss: 0.6111 - val_wine_type_loss: 0.0397 - val_wine_quality_root_mean_squared_error: 0.7823 - val_wine_type_accuracy: 0.9924\n",
      "Epoch 22/180\n",
      "3155/3155 [==============================] - 0s 93us/sample - loss: 0.6491 - wine_quality_loss: 0.6088 - wine_type_loss: 0.0396 - wine_quality_root_mean_squared_error: 0.7806 - wine_type_accuracy: 0.9918 - val_loss: 0.6109 - val_wine_quality_loss: 0.5708 - val_wine_type_loss: 0.0388 - val_wine_quality_root_mean_squared_error: 0.7561 - val_wine_type_accuracy: 0.9924\n",
      "Epoch 23/180\n",
      "3155/3155 [==============================] - 0s 93us/sample - loss: 0.6199 - wine_quality_loss: 0.5798 - wine_type_loss: 0.0386 - wine_quality_root_mean_squared_error: 0.7623 - wine_type_accuracy: 0.9918 - val_loss: 0.5882 - val_wine_quality_loss: 0.5489 - val_wine_type_loss: 0.0379 - val_wine_quality_root_mean_squared_error: 0.7416 - val_wine_type_accuracy: 0.9924\n",
      "Epoch 24/180\n",
      "3155/3155 [==============================] - 0s 92us/sample - loss: 0.5932 - wine_quality_loss: 0.5545 - wine_type_loss: 0.0379 - wine_quality_root_mean_squared_error: 0.7452 - wine_type_accuracy: 0.9927 - val_loss: 0.5606 - val_wine_quality_loss: 0.5219 - val_wine_type_loss: 0.0373 - val_wine_quality_root_mean_squared_error: 0.7231 - val_wine_type_accuracy: 0.9924\n",
      "Epoch 25/180\n",
      "3155/3155 [==============================] - 0s 92us/sample - loss: 0.5689 - wine_quality_loss: 0.5314 - wine_type_loss: 0.0369 - wine_quality_root_mean_squared_error: 0.7293 - wine_type_accuracy: 0.9927 - val_loss: 0.5427 - val_wine_quality_loss: 0.5041 - val_wine_type_loss: 0.0368 - val_wine_quality_root_mean_squared_error: 0.7110 - val_wine_type_accuracy: 0.9924\n",
      "Epoch 26/180\n",
      "3155/3155 [==============================] - 0s 92us/sample - loss: 0.5466 - wine_quality_loss: 0.5091 - wine_type_loss: 0.0362 - wine_quality_root_mean_squared_error: 0.7143 - wine_type_accuracy: 0.9927 - val_loss: 0.5220 - val_wine_quality_loss: 0.4840 - val_wine_type_loss: 0.0364 - val_wine_quality_root_mean_squared_error: 0.6965 - val_wine_type_accuracy: 0.9924\n",
      "Epoch 27/180\n",
      "3155/3155 [==============================] - 0s 77us/sample - loss: 0.5263 - wine_quality_loss: 0.4907 - wine_type_loss: 0.0356 - wine_quality_root_mean_squared_error: 0.7004 - wine_type_accuracy: 0.9927 - val_loss: 0.5060 - val_wine_quality_loss: 0.4683 - val_wine_type_loss: 0.0359 - val_wine_quality_root_mean_squared_error: 0.6853 - val_wine_type_accuracy: 0.9924\n",
      "Epoch 28/180\n",
      "3155/3155 [==============================] - 0s 78us/sample - loss: 0.5107 - wine_quality_loss: 0.4745 - wine_type_loss: 0.0349 - wine_quality_root_mean_squared_error: 0.6898 - wine_type_accuracy: 0.9930 - val_loss: 0.4903 - val_wine_quality_loss: 0.4529 - val_wine_type_loss: 0.0357 - val_wine_quality_root_mean_squared_error: 0.6740 - val_wine_type_accuracy: 0.9924\n",
      "Epoch 29/180\n",
      "3155/3155 [==============================] - 0s 93us/sample - loss: 0.4940 - wine_quality_loss: 0.4589 - wine_type_loss: 0.0344 - wine_quality_root_mean_squared_error: 0.6778 - wine_type_accuracy: 0.9930 - val_loss: 0.4735 - val_wine_quality_loss: 0.4366 - val_wine_type_loss: 0.0352 - val_wine_quality_root_mean_squared_error: 0.6617 - val_wine_type_accuracy: 0.9924\n",
      "Epoch 30/180\n",
      "3155/3155 [==============================] - 0s 94us/sample - loss: 0.4759 - wine_quality_loss: 0.4425 - wine_type_loss: 0.0339 - wine_quality_root_mean_squared_error: 0.6648 - wine_type_accuracy: 0.9927 - val_loss: 0.4605 - val_wine_quality_loss: 0.4240 - val_wine_type_loss: 0.0349 - val_wine_quality_root_mean_squared_error: 0.6521 - val_wine_type_accuracy: 0.9924\n",
      "Epoch 31/180\n",
      "3155/3155 [==============================] - 0s 94us/sample - loss: 0.4638 - wine_quality_loss: 0.4299 - wine_type_loss: 0.0346 - wine_quality_root_mean_squared_error: 0.6561 - wine_type_accuracy: 0.9933 - val_loss: 0.4476 - val_wine_quality_loss: 0.4116 - val_wine_type_loss: 0.0346 - val_wine_quality_root_mean_squared_error: 0.6424 - val_wine_type_accuracy: 0.9924\n",
      "Epoch 32/180\n",
      "3155/3155 [==============================] - 0s 92us/sample - loss: 0.4506 - wine_quality_loss: 0.4174 - wine_type_loss: 0.0328 - wine_quality_root_mean_squared_error: 0.6463 - wine_type_accuracy: 0.9940 - val_loss: 0.4374 - val_wine_quality_loss: 0.4014 - val_wine_type_loss: 0.0345 - val_wine_quality_root_mean_squared_error: 0.6344 - val_wine_type_accuracy: 0.9924\n",
      "Epoch 33/180\n",
      "3155/3155 [==============================] - 0s 92us/sample - loss: 0.4390 - wine_quality_loss: 0.4064 - wine_type_loss: 0.0325 - wine_quality_root_mean_squared_error: 0.6375 - wine_type_accuracy: 0.9930 - val_loss: 0.4264 - val_wine_quality_loss: 0.3908 - val_wine_type_loss: 0.0342 - val_wine_quality_root_mean_squared_error: 0.6260 - val_wine_type_accuracy: 0.9924\n",
      "Epoch 34/180\n",
      "3155/3155 [==============================] - 0s 76us/sample - loss: 0.4293 - wine_quality_loss: 0.3969 - wine_type_loss: 0.0320 - wine_quality_root_mean_squared_error: 0.6303 - wine_type_accuracy: 0.9937 - val_loss: 0.4189 - val_wine_quality_loss: 0.3838 - val_wine_type_loss: 0.0338 - val_wine_quality_root_mean_squared_error: 0.6202 - val_wine_type_accuracy: 0.9911\n",
      "Epoch 35/180\n",
      "3155/3155 [==============================] - 0s 93us/sample - loss: 0.4198 - wine_quality_loss: 0.3879 - wine_type_loss: 0.0316 - wine_quality_root_mean_squared_error: 0.6230 - wine_type_accuracy: 0.9937 - val_loss: 0.4188 - val_wine_quality_loss: 0.3835 - val_wine_type_loss: 0.0338 - val_wine_quality_root_mean_squared_error: 0.6202 - val_wine_type_accuracy: 0.9911\n",
      "Epoch 36/180\n",
      "3155/3155 [==============================] - 0s 93us/sample - loss: 0.4117 - wine_quality_loss: 0.3797 - wine_type_loss: 0.0316 - wine_quality_root_mean_squared_error: 0.6167 - wine_type_accuracy: 0.9943 - val_loss: 0.4077 - val_wine_quality_loss: 0.3727 - val_wine_type_loss: 0.0335 - val_wine_quality_root_mean_squared_error: 0.6114 - val_wine_type_accuracy: 0.9924\n",
      "Epoch 37/180\n",
      "3155/3155 [==============================] - 0s 93us/sample - loss: 0.4051 - wine_quality_loss: 0.3745 - wine_type_loss: 0.0308 - wine_quality_root_mean_squared_error: 0.6117 - wine_type_accuracy: 0.9943 - val_loss: 0.3994 - val_wine_quality_loss: 0.3648 - val_wine_type_loss: 0.0334 - val_wine_quality_root_mean_squared_error: 0.6046 - val_wine_type_accuracy: 0.9924\n",
      "Epoch 38/180\n",
      "3155/3155 [==============================] - 0s 94us/sample - loss: 0.3987 - wine_quality_loss: 0.3686 - wine_type_loss: 0.0306 - wine_quality_root_mean_squared_error: 0.6067 - wine_type_accuracy: 0.9943 - val_loss: 0.3923 - val_wine_quality_loss: 0.3578 - val_wine_type_loss: 0.0331 - val_wine_quality_root_mean_squared_error: 0.5990 - val_wine_type_accuracy: 0.9924\n",
      "Epoch 39/180\n",
      "3155/3155 [==============================] - 0s 94us/sample - loss: 0.3911 - wine_quality_loss: 0.3614 - wine_type_loss: 0.0302 - wine_quality_root_mean_squared_error: 0.6007 - wine_type_accuracy: 0.9946 - val_loss: 0.3880 - val_wine_quality_loss: 0.3538 - val_wine_type_loss: 0.0328 - val_wine_quality_root_mean_squared_error: 0.5957 - val_wine_type_accuracy: 0.9937\n",
      "Epoch 40/180\n",
      "3155/3155 [==============================] - 0s 92us/sample - loss: 0.3857 - wine_quality_loss: 0.3551 - wine_type_loss: 0.0298 - wine_quality_root_mean_squared_error: 0.5965 - wine_type_accuracy: 0.9946 - val_loss: 0.3895 - val_wine_quality_loss: 0.3552 - val_wine_type_loss: 0.0327 - val_wine_quality_root_mean_squared_error: 0.5969 - val_wine_type_accuracy: 0.9937\n",
      "Epoch 41/180\n",
      "3155/3155 [==============================] - 0s 92us/sample - loss: 0.3812 - wine_quality_loss: 0.3519 - wine_type_loss: 0.0295 - wine_quality_root_mean_squared_error: 0.5930 - wine_type_accuracy: 0.9949 - val_loss: 0.3821 - val_wine_quality_loss: 0.3484 - val_wine_type_loss: 0.0325 - val_wine_quality_root_mean_squared_error: 0.5910 - val_wine_type_accuracy: 0.9937\n",
      "Epoch 42/180\n",
      "3155/3155 [==============================] - 0s 76us/sample - loss: 0.3764 - wine_quality_loss: 0.3466 - wine_type_loss: 0.0292 - wine_quality_root_mean_squared_error: 0.5891 - wine_type_accuracy: 0.9949 - val_loss: 0.3812 - val_wine_quality_loss: 0.3481 - val_wine_type_loss: 0.0323 - val_wine_quality_root_mean_squared_error: 0.5904 - val_wine_type_accuracy: 0.9937\n",
      "Epoch 43/180\n",
      "3155/3155 [==============================] - 0s 92us/sample - loss: 0.3738 - wine_quality_loss: 0.3449 - wine_type_loss: 0.0289 - wine_quality_root_mean_squared_error: 0.5872 - wine_type_accuracy: 0.9949 - val_loss: 0.3830 - val_wine_quality_loss: 0.3495 - val_wine_type_loss: 0.0320 - val_wine_quality_root_mean_squared_error: 0.5921 - val_wine_type_accuracy: 0.9937\n",
      "Epoch 44/180\n",
      "3155/3155 [==============================] - 0s 92us/sample - loss: 0.3682 - wine_quality_loss: 0.3389 - wine_type_loss: 0.0287 - wine_quality_root_mean_squared_error: 0.5826 - wine_type_accuracy: 0.9949 - val_loss: 0.3726 - val_wine_quality_loss: 0.3396 - val_wine_type_loss: 0.0318 - val_wine_quality_root_mean_squared_error: 0.5834 - val_wine_type_accuracy: 0.9937\n",
      "Epoch 45/180\n",
      "3155/3155 [==============================] - 0s 94us/sample - loss: 0.3653 - wine_quality_loss: 0.3366 - wine_type_loss: 0.0284 - wine_quality_root_mean_squared_error: 0.5803 - wine_type_accuracy: 0.9949 - val_loss: 0.3749 - val_wine_quality_loss: 0.3419 - val_wine_type_loss: 0.0317 - val_wine_quality_root_mean_squared_error: 0.5854 - val_wine_type_accuracy: 0.9937\n",
      "Epoch 46/180\n",
      "3155/3155 [==============================] - 0s 93us/sample - loss: 0.3619 - wine_quality_loss: 0.3336 - wine_type_loss: 0.0281 - wine_quality_root_mean_squared_error: 0.5777 - wine_type_accuracy: 0.9949 - val_loss: 0.3657 - val_wine_quality_loss: 0.3331 - val_wine_type_loss: 0.0316 - val_wine_quality_root_mean_squared_error: 0.5776 - val_wine_type_accuracy: 0.9937\n",
      "Epoch 47/180\n",
      "3155/3155 [==============================] - 0s 94us/sample - loss: 0.3580 - wine_quality_loss: 0.3299 - wine_type_loss: 0.0279 - wine_quality_root_mean_squared_error: 0.5746 - wine_type_accuracy: 0.9949 - val_loss: 0.3670 - val_wine_quality_loss: 0.3342 - val_wine_type_loss: 0.0316 - val_wine_quality_root_mean_squared_error: 0.5787 - val_wine_type_accuracy: 0.9937\n",
      "Epoch 48/180\n",
      "3155/3155 [==============================] - 0s 93us/sample - loss: 0.3557 - wine_quality_loss: 0.3280 - wine_type_loss: 0.0276 - wine_quality_root_mean_squared_error: 0.5728 - wine_type_accuracy: 0.9949 - val_loss: 0.3655 - val_wine_quality_loss: 0.3334 - val_wine_type_loss: 0.0313 - val_wine_quality_root_mean_squared_error: 0.5777 - val_wine_type_accuracy: 0.9937\n",
      "Epoch 49/180\n",
      "3155/3155 [==============================] - 0s 93us/sample - loss: 0.3532 - wine_quality_loss: 0.3254 - wine_type_loss: 0.0277 - wine_quality_root_mean_squared_error: 0.5708 - wine_type_accuracy: 0.9949 - val_loss: 0.3613 - val_wine_quality_loss: 0.3292 - val_wine_type_loss: 0.0312 - val_wine_quality_root_mean_squared_error: 0.5742 - val_wine_type_accuracy: 0.9937\n",
      "Epoch 50/180\n",
      "3155/3155 [==============================] - 0s 90us/sample - loss: 0.3514 - wine_quality_loss: 0.3240 - wine_type_loss: 0.0271 - wine_quality_root_mean_squared_error: 0.5694 - wine_type_accuracy: 0.9949 - val_loss: 0.3710 - val_wine_quality_loss: 0.3391 - val_wine_type_loss: 0.0310 - val_wine_quality_root_mean_squared_error: 0.5827 - val_wine_type_accuracy: 0.9937\n",
      "Epoch 51/180\n",
      "3155/3155 [==============================] - 0s 79us/sample - loss: 0.3501 - wine_quality_loss: 0.3238 - wine_type_loss: 0.0270 - wine_quality_root_mean_squared_error: 0.5684 - wine_type_accuracy: 0.9949 - val_loss: 0.3639 - val_wine_quality_loss: 0.3321 - val_wine_type_loss: 0.0309 - val_wine_quality_root_mean_squared_error: 0.5768 - val_wine_type_accuracy: 0.9937\n",
      "Epoch 52/180\n",
      "3155/3155 [==============================] - 0s 92us/sample - loss: 0.3477 - wine_quality_loss: 0.3206 - wine_type_loss: 0.0265 - wine_quality_root_mean_squared_error: 0.5666 - wine_type_accuracy: 0.9949 - val_loss: 0.3606 - val_wine_quality_loss: 0.3287 - val_wine_type_loss: 0.0309 - val_wine_quality_root_mean_squared_error: 0.5738 - val_wine_type_accuracy: 0.9937\n",
      "Epoch 53/180\n",
      "3155/3155 [==============================] - 0s 95us/sample - loss: 0.3442 - wine_quality_loss: 0.3183 - wine_type_loss: 0.0264 - wine_quality_root_mean_squared_error: 0.5637 - wine_type_accuracy: 0.9949 - val_loss: 0.3621 - val_wine_quality_loss: 0.3302 - val_wine_type_loss: 0.0308 - val_wine_quality_root_mean_squared_error: 0.5753 - val_wine_type_accuracy: 0.9937\n",
      "Epoch 54/180\n",
      "3155/3155 [==============================] - 0s 91us/sample - loss: 0.3439 - wine_quality_loss: 0.3173 - wine_type_loss: 0.0264 - wine_quality_root_mean_squared_error: 0.5636 - wine_type_accuracy: 0.9949 - val_loss: 0.3606 - val_wine_quality_loss: 0.3293 - val_wine_type_loss: 0.0307 - val_wine_quality_root_mean_squared_error: 0.5741 - val_wine_type_accuracy: 0.9937\n",
      "Epoch 55/180\n",
      "3155/3155 [==============================] - 0s 96us/sample - loss: 0.3414 - wine_quality_loss: 0.3153 - wine_type_loss: 0.0261 - wine_quality_root_mean_squared_error: 0.5615 - wine_type_accuracy: 0.9949 - val_loss: 0.3568 - val_wine_quality_loss: 0.3252 - val_wine_type_loss: 0.0305 - val_wine_quality_root_mean_squared_error: 0.5709 - val_wine_type_accuracy: 0.9937\n",
      "Epoch 56/180\n",
      "3155/3155 [==============================] - 0s 90us/sample - loss: 0.3391 - wine_quality_loss: 0.3129 - wine_type_loss: 0.0258 - wine_quality_root_mean_squared_error: 0.5597 - wine_type_accuracy: 0.9949 - val_loss: 0.3508 - val_wine_quality_loss: 0.3194 - val_wine_type_loss: 0.0304 - val_wine_quality_root_mean_squared_error: 0.5657 - val_wine_type_accuracy: 0.9937\n",
      "Epoch 57/180\n",
      "3155/3155 [==============================] - 0s 92us/sample - loss: 0.3388 - wine_quality_loss: 0.3128 - wine_type_loss: 0.0256 - wine_quality_root_mean_squared_error: 0.5596 - wine_type_accuracy: 0.9949 - val_loss: 0.3515 - val_wine_quality_loss: 0.3202 - val_wine_type_loss: 0.0303 - val_wine_quality_root_mean_squared_error: 0.5663 - val_wine_type_accuracy: 0.9937\n",
      "Epoch 58/180\n",
      "3155/3155 [==============================] - 0s 90us/sample - loss: 0.3372 - wine_quality_loss: 0.3118 - wine_type_loss: 0.0255 - wine_quality_root_mean_squared_error: 0.5583 - wine_type_accuracy: 0.9952 - val_loss: 0.3568 - val_wine_quality_loss: 0.3257 - val_wine_type_loss: 0.0301 - val_wine_quality_root_mean_squared_error: 0.5712 - val_wine_type_accuracy: 0.9937\n",
      "Epoch 59/180\n",
      "3155/3155 [==============================] - 0s 79us/sample - loss: 0.3360 - wine_quality_loss: 0.3119 - wine_type_loss: 0.0252 - wine_quality_root_mean_squared_error: 0.5574 - wine_type_accuracy: 0.9952 - val_loss: 0.3595 - val_wine_quality_loss: 0.3286 - val_wine_type_loss: 0.0299 - val_wine_quality_root_mean_squared_error: 0.5737 - val_wine_type_accuracy: 0.9937\n",
      "Epoch 60/180\n",
      "3155/3155 [==============================] - 0s 92us/sample - loss: 0.3347 - wine_quality_loss: 0.3098 - wine_type_loss: 0.0250 - wine_quality_root_mean_squared_error: 0.5564 - wine_type_accuracy: 0.9952 - val_loss: 0.3558 - val_wine_quality_loss: 0.3253 - val_wine_type_loss: 0.0297 - val_wine_quality_root_mean_squared_error: 0.5707 - val_wine_type_accuracy: 0.9937\n",
      "Epoch 61/180\n",
      "3155/3155 [==============================] - 0s 95us/sample - loss: 0.3329 - wine_quality_loss: 0.3081 - wine_type_loss: 0.0249 - wine_quality_root_mean_squared_error: 0.5550 - wine_type_accuracy: 0.9952 - val_loss: 0.3520 - val_wine_quality_loss: 0.3215 - val_wine_type_loss: 0.0297 - val_wine_quality_root_mean_squared_error: 0.5673 - val_wine_type_accuracy: 0.9937\n",
      "Epoch 62/180\n",
      "3155/3155 [==============================] - 0s 94us/sample - loss: 0.3314 - wine_quality_loss: 0.3070 - wine_type_loss: 0.0247 - wine_quality_root_mean_squared_error: 0.5537 - wine_type_accuracy: 0.9952 - val_loss: 0.3542 - val_wine_quality_loss: 0.3236 - val_wine_type_loss: 0.0296 - val_wine_quality_root_mean_squared_error: 0.5694 - val_wine_type_accuracy: 0.9937\n",
      "Epoch 63/180\n",
      "3155/3155 [==============================] - 0s 94us/sample - loss: 0.3297 - wine_quality_loss: 0.3055 - wine_type_loss: 0.0245 - wine_quality_root_mean_squared_error: 0.5524 - wine_type_accuracy: 0.9952 - val_loss: 0.3482 - val_wine_quality_loss: 0.3179 - val_wine_type_loss: 0.0294 - val_wine_quality_root_mean_squared_error: 0.5643 - val_wine_type_accuracy: 0.9937\n",
      "Epoch 64/180\n",
      "3155/3155 [==============================] - 0s 93us/sample - loss: 0.3287 - wine_quality_loss: 0.3042 - wine_type_loss: 0.0243 - wine_quality_root_mean_squared_error: 0.5516 - wine_type_accuracy: 0.9952 - val_loss: 0.3483 - val_wine_quality_loss: 0.3181 - val_wine_type_loss: 0.0294 - val_wine_quality_root_mean_squared_error: 0.5644 - val_wine_type_accuracy: 0.9937\n",
      "Epoch 65/180\n",
      "3155/3155 [==============================] - 0s 94us/sample - loss: 0.3285 - wine_quality_loss: 0.3041 - wine_type_loss: 0.0242 - wine_quality_root_mean_squared_error: 0.5515 - wine_type_accuracy: 0.9952 - val_loss: 0.3498 - val_wine_quality_loss: 0.3198 - val_wine_type_loss: 0.0293 - val_wine_quality_root_mean_squared_error: 0.5658 - val_wine_type_accuracy: 0.9937\n",
      "Epoch 66/180\n",
      "3155/3155 [==============================] - 0s 96us/sample - loss: 0.3267 - wine_quality_loss: 0.3021 - wine_type_loss: 0.0241 - wine_quality_root_mean_squared_error: 0.5501 - wine_type_accuracy: 0.9952 - val_loss: 0.3522 - val_wine_quality_loss: 0.3219 - val_wine_type_loss: 0.0295 - val_wine_quality_root_mean_squared_error: 0.5677 - val_wine_type_accuracy: 0.9937\n",
      "Epoch 67/180\n",
      "3155/3155 [==============================] - 0s 93us/sample - loss: 0.3253 - wine_quality_loss: 0.3023 - wine_type_loss: 0.0238 - wine_quality_root_mean_squared_error: 0.5490 - wine_type_accuracy: 0.9952 - val_loss: 0.3458 - val_wine_quality_loss: 0.3157 - val_wine_type_loss: 0.0294 - val_wine_quality_root_mean_squared_error: 0.5622 - val_wine_type_accuracy: 0.9937\n",
      "Epoch 68/180\n",
      "3155/3155 [==============================] - 0s 92us/sample - loss: 0.3250 - wine_quality_loss: 0.3016 - wine_type_loss: 0.0237 - wine_quality_root_mean_squared_error: 0.5488 - wine_type_accuracy: 0.9956 - val_loss: 0.3477 - val_wine_quality_loss: 0.3176 - val_wine_type_loss: 0.0292 - val_wine_quality_root_mean_squared_error: 0.5641 - val_wine_type_accuracy: 0.9937\n",
      "Epoch 69/180\n",
      "3155/3155 [==============================] - 0s 91us/sample - loss: 0.3242 - wine_quality_loss: 0.3009 - wine_type_loss: 0.0236 - wine_quality_root_mean_squared_error: 0.5481 - wine_type_accuracy: 0.9952 - val_loss: 0.3456 - val_wine_quality_loss: 0.3156 - val_wine_type_loss: 0.0292 - val_wine_quality_root_mean_squared_error: 0.5621 - val_wine_type_accuracy: 0.9937\n",
      "Epoch 70/180\n",
      "3155/3155 [==============================] - 0s 94us/sample - loss: 0.3206 - wine_quality_loss: 0.2969 - wine_type_loss: 0.0234 - wine_quality_root_mean_squared_error: 0.5451 - wine_type_accuracy: 0.9952 - val_loss: 0.3519 - val_wine_quality_loss: 0.3217 - val_wine_type_loss: 0.0293 - val_wine_quality_root_mean_squared_error: 0.5677 - val_wine_type_accuracy: 0.9937\n",
      "Epoch 71/180\n",
      "3155/3155 [==============================] - 0s 78us/sample - loss: 0.3206 - wine_quality_loss: 0.2974 - wine_type_loss: 0.0232 - wine_quality_root_mean_squared_error: 0.5453 - wine_type_accuracy: 0.9959 - val_loss: 0.3461 - val_wine_quality_loss: 0.3164 - val_wine_type_loss: 0.0289 - val_wine_quality_root_mean_squared_error: 0.5629 - val_wine_type_accuracy: 0.9937\n",
      "Epoch 72/180\n",
      "3155/3155 [==============================] - 0s 93us/sample - loss: 0.3194 - wine_quality_loss: 0.2972 - wine_type_loss: 0.0232 - wine_quality_root_mean_squared_error: 0.5442 - wine_type_accuracy: 0.9956 - val_loss: 0.3529 - val_wine_quality_loss: 0.3232 - val_wine_type_loss: 0.0288 - val_wine_quality_root_mean_squared_error: 0.5690 - val_wine_type_accuracy: 0.9937\n",
      "Epoch 73/180\n",
      "3155/3155 [==============================] - 0s 93us/sample - loss: 0.3187 - wine_quality_loss: 0.2956 - wine_type_loss: 0.0230 - wine_quality_root_mean_squared_error: 0.5437 - wine_type_accuracy: 0.9956 - val_loss: 0.3451 - val_wine_quality_loss: 0.3155 - val_wine_type_loss: 0.0289 - val_wine_quality_root_mean_squared_error: 0.5620 - val_wine_type_accuracy: 0.9937\n",
      "Epoch 74/180\n",
      "3155/3155 [==============================] - 0s 93us/sample - loss: 0.3188 - wine_quality_loss: 0.2956 - wine_type_loss: 0.0228 - wine_quality_root_mean_squared_error: 0.5440 - wine_type_accuracy: 0.9956 - val_loss: 0.3471 - val_wine_quality_loss: 0.3173 - val_wine_type_loss: 0.0290 - val_wine_quality_root_mean_squared_error: 0.5636 - val_wine_type_accuracy: 0.9937\n",
      "Epoch 75/180\n",
      "3155/3155 [==============================] - 0s 92us/sample - loss: 0.3180 - wine_quality_loss: 0.2951 - wine_type_loss: 0.0228 - wine_quality_root_mean_squared_error: 0.5432 - wine_type_accuracy: 0.9959 - val_loss: 0.3536 - val_wine_quality_loss: 0.3239 - val_wine_type_loss: 0.0287 - val_wine_quality_root_mean_squared_error: 0.5696 - val_wine_type_accuracy: 0.9937\n",
      "Epoch 76/180\n",
      "3155/3155 [==============================] - 0s 92us/sample - loss: 0.3165 - wine_quality_loss: 0.2942 - wine_type_loss: 0.0226 - wine_quality_root_mean_squared_error: 0.5421 - wine_type_accuracy: 0.9959 - val_loss: 0.3417 - val_wine_quality_loss: 0.3125 - val_wine_type_loss: 0.0287 - val_wine_quality_root_mean_squared_error: 0.5592 - val_wine_type_accuracy: 0.9937\n",
      "Epoch 77/180\n",
      "3155/3155 [==============================] - 0s 76us/sample - loss: 0.3156 - wine_quality_loss: 0.2934 - wine_type_loss: 0.0225 - wine_quality_root_mean_squared_error: 0.5414 - wine_type_accuracy: 0.9959 - val_loss: 0.3446 - val_wine_quality_loss: 0.3152 - val_wine_type_loss: 0.0286 - val_wine_quality_root_mean_squared_error: 0.5618 - val_wine_type_accuracy: 0.9937\n",
      "Epoch 78/180\n",
      "3155/3155 [==============================] - 0s 92us/sample - loss: 0.3158 - wine_quality_loss: 0.2938 - wine_type_loss: 0.0224 - wine_quality_root_mean_squared_error: 0.5415 - wine_type_accuracy: 0.9959 - val_loss: 0.3455 - val_wine_quality_loss: 0.3160 - val_wine_type_loss: 0.0285 - val_wine_quality_root_mean_squared_error: 0.5627 - val_wine_type_accuracy: 0.9937\n",
      "Epoch 79/180\n",
      "3155/3155 [==============================] - 0s 93us/sample - loss: 0.3147 - wine_quality_loss: 0.2924 - wine_type_loss: 0.0223 - wine_quality_root_mean_squared_error: 0.5407 - wine_type_accuracy: 0.9962 - val_loss: 0.3466 - val_wine_quality_loss: 0.3171 - val_wine_type_loss: 0.0286 - val_wine_quality_root_mean_squared_error: 0.5636 - val_wine_type_accuracy: 0.9937\n",
      "Epoch 80/180\n",
      "3155/3155 [==============================] - 0s 93us/sample - loss: 0.3134 - wine_quality_loss: 0.2917 - wine_type_loss: 0.0221 - wine_quality_root_mean_squared_error: 0.5396 - wine_type_accuracy: 0.9959 - val_loss: 0.3425 - val_wine_quality_loss: 0.3134 - val_wine_type_loss: 0.0284 - val_wine_quality_root_mean_squared_error: 0.5602 - val_wine_type_accuracy: 0.9937\n",
      "Epoch 81/180\n",
      "3155/3155 [==============================] - 0s 95us/sample - loss: 0.3134 - wine_quality_loss: 0.2916 - wine_type_loss: 0.0220 - wine_quality_root_mean_squared_error: 0.5398 - wine_type_accuracy: 0.9962 - val_loss: 0.3420 - val_wine_quality_loss: 0.3125 - val_wine_type_loss: 0.0286 - val_wine_quality_root_mean_squared_error: 0.5594 - val_wine_type_accuracy: 0.9937\n",
      "Epoch 82/180\n",
      "3155/3155 [==============================] - 0s 93us/sample - loss: 0.3130 - wine_quality_loss: 0.2908 - wine_type_loss: 0.0219 - wine_quality_root_mean_squared_error: 0.5395 - wine_type_accuracy: 0.9959 - val_loss: 0.3416 - val_wine_quality_loss: 0.3123 - val_wine_type_loss: 0.0285 - val_wine_quality_root_mean_squared_error: 0.5592 - val_wine_type_accuracy: 0.9937\n",
      "Epoch 83/180\n",
      "3155/3155 [==============================] - 0s 92us/sample - loss: 0.3117 - wine_quality_loss: 0.2896 - wine_type_loss: 0.0218 - wine_quality_root_mean_squared_error: 0.5384 - wine_type_accuracy: 0.9959 - val_loss: 0.3422 - val_wine_quality_loss: 0.3132 - val_wine_type_loss: 0.0284 - val_wine_quality_root_mean_squared_error: 0.5598 - val_wine_type_accuracy: 0.9937\n",
      "Epoch 84/180\n",
      "3155/3155 [==============================] - 0s 94us/sample - loss: 0.3106 - wine_quality_loss: 0.2888 - wine_type_loss: 0.0218 - wine_quality_root_mean_squared_error: 0.5374 - wine_type_accuracy: 0.9962 - val_loss: 0.3386 - val_wine_quality_loss: 0.3096 - val_wine_type_loss: 0.0282 - val_wine_quality_root_mean_squared_error: 0.5567 - val_wine_type_accuracy: 0.9937\n",
      "Epoch 85/180\n",
      "3155/3155 [==============================] - 0s 90us/sample - loss: 0.3118 - wine_quality_loss: 0.2902 - wine_type_loss: 0.0216 - wine_quality_root_mean_squared_error: 0.5387 - wine_type_accuracy: 0.9962 - val_loss: 0.3497 - val_wine_quality_loss: 0.3207 - val_wine_type_loss: 0.0284 - val_wine_quality_root_mean_squared_error: 0.5666 - val_wine_type_accuracy: 0.9937\n",
      "Epoch 86/180\n",
      "3155/3155 [==============================] - 0s 79us/sample - loss: 0.3097 - wine_quality_loss: 0.2880 - wine_type_loss: 0.0214 - wine_quality_root_mean_squared_error: 0.5368 - wine_type_accuracy: 0.9962 - val_loss: 0.3386 - val_wine_quality_loss: 0.3095 - val_wine_type_loss: 0.0283 - val_wine_quality_root_mean_squared_error: 0.5567 - val_wine_type_accuracy: 0.9937\n",
      "Epoch 87/180\n",
      "3155/3155 [==============================] - 0s 93us/sample - loss: 0.3091 - wine_quality_loss: 0.2881 - wine_type_loss: 0.0213 - wine_quality_root_mean_squared_error: 0.5365 - wine_type_accuracy: 0.9962 - val_loss: 0.3482 - val_wine_quality_loss: 0.3192 - val_wine_type_loss: 0.0284 - val_wine_quality_root_mean_squared_error: 0.5652 - val_wine_type_accuracy: 0.9937\n",
      "Epoch 88/180\n",
      "3155/3155 [==============================] - 0s 93us/sample - loss: 0.3079 - wine_quality_loss: 0.2868 - wine_type_loss: 0.0213 - wine_quality_root_mean_squared_error: 0.5353 - wine_type_accuracy: 0.9962 - val_loss: 0.3424 - val_wine_quality_loss: 0.3135 - val_wine_type_loss: 0.0283 - val_wine_quality_root_mean_squared_error: 0.5601 - val_wine_type_accuracy: 0.9937\n",
      "Epoch 89/180\n",
      "3155/3155 [==============================] - 0s 93us/sample - loss: 0.3073 - wine_quality_loss: 0.2859 - wine_type_loss: 0.0211 - wine_quality_root_mean_squared_error: 0.5349 - wine_type_accuracy: 0.9962 - val_loss: 0.3429 - val_wine_quality_loss: 0.3140 - val_wine_type_loss: 0.0281 - val_wine_quality_root_mean_squared_error: 0.5607 - val_wine_type_accuracy: 0.9937\n",
      "Epoch 90/180\n",
      "3155/3155 [==============================] - 0s 93us/sample - loss: 0.3071 - wine_quality_loss: 0.2858 - wine_type_loss: 0.0211 - wine_quality_root_mean_squared_error: 0.5347 - wine_type_accuracy: 0.9965 - val_loss: 0.3398 - val_wine_quality_loss: 0.3110 - val_wine_type_loss: 0.0281 - val_wine_quality_root_mean_squared_error: 0.5580 - val_wine_type_accuracy: 0.9937\n",
      "Epoch 91/180\n",
      "3155/3155 [==============================] - 0s 92us/sample - loss: 0.3065 - wine_quality_loss: 0.2857 - wine_type_loss: 0.0209 - wine_quality_root_mean_squared_error: 0.5344 - wine_type_accuracy: 0.9965 - val_loss: 0.3422 - val_wine_quality_loss: 0.3134 - val_wine_type_loss: 0.0280 - val_wine_quality_root_mean_squared_error: 0.5602 - val_wine_type_accuracy: 0.9937\n",
      "Epoch 92/180\n",
      "3155/3155 [==============================] - 0s 92us/sample - loss: 0.3054 - wine_quality_loss: 0.2846 - wine_type_loss: 0.0207 - wine_quality_root_mean_squared_error: 0.5336 - wine_type_accuracy: 0.9965 - val_loss: 0.3459 - val_wine_quality_loss: 0.3168 - val_wine_type_loss: 0.0281 - val_wine_quality_root_mean_squared_error: 0.5633 - val_wine_type_accuracy: 0.9937\n",
      "Epoch 93/180\n",
      "3155/3155 [==============================] - 0s 90us/sample - loss: 0.3049 - wine_quality_loss: 0.2846 - wine_type_loss: 0.0206 - wine_quality_root_mean_squared_error: 0.5331 - wine_type_accuracy: 0.9965 - val_loss: 0.3425 - val_wine_quality_loss: 0.3134 - val_wine_type_loss: 0.0281 - val_wine_quality_root_mean_squared_error: 0.5603 - val_wine_type_accuracy: 0.9937\n",
      "Epoch 94/180\n",
      "3155/3155 [==============================] - 0s 78us/sample - loss: 0.3024 - wine_quality_loss: 0.2815 - wine_type_loss: 0.0207 - wine_quality_root_mean_squared_error: 0.5308 - wine_type_accuracy: 0.9965 - val_loss: 0.3462 - val_wine_quality_loss: 0.3175 - val_wine_type_loss: 0.0283 - val_wine_quality_root_mean_squared_error: 0.5635 - val_wine_type_accuracy: 0.9937\n",
      "Epoch 95/180\n",
      "3155/3155 [==============================] - 0s 92us/sample - loss: 0.3038 - wine_quality_loss: 0.2832 - wine_type_loss: 0.0205 - wine_quality_root_mean_squared_error: 0.5322 - wine_type_accuracy: 0.9965 - val_loss: 0.3385 - val_wine_quality_loss: 0.3096 - val_wine_type_loss: 0.0283 - val_wine_quality_root_mean_squared_error: 0.5567 - val_wine_type_accuracy: 0.9937\n",
      "Epoch 96/180\n",
      "3155/3155 [==============================] - 0s 94us/sample - loss: 0.3032 - wine_quality_loss: 0.2826 - wine_type_loss: 0.0204 - wine_quality_root_mean_squared_error: 0.5317 - wine_type_accuracy: 0.9965 - val_loss: 0.3400 - val_wine_quality_loss: 0.3113 - val_wine_type_loss: 0.0282 - val_wine_quality_root_mean_squared_error: 0.5581 - val_wine_type_accuracy: 0.9937\n",
      "Epoch 97/180\n",
      "3155/3155 [==============================] - 0s 93us/sample - loss: 0.3017 - wine_quality_loss: 0.2812 - wine_type_loss: 0.0203 - wine_quality_root_mean_squared_error: 0.5304 - wine_type_accuracy: 0.9962 - val_loss: 0.3453 - val_wine_quality_loss: 0.3164 - val_wine_type_loss: 0.0280 - val_wine_quality_root_mean_squared_error: 0.5629 - val_wine_type_accuracy: 0.9937\n",
      "Epoch 98/180\n",
      "3155/3155 [==============================] - 0s 92us/sample - loss: 0.3014 - wine_quality_loss: 0.2813 - wine_type_loss: 0.0202 - wine_quality_root_mean_squared_error: 0.5303 - wine_type_accuracy: 0.9965 - val_loss: 0.3389 - val_wine_quality_loss: 0.3103 - val_wine_type_loss: 0.0279 - val_wine_quality_root_mean_squared_error: 0.5573 - val_wine_type_accuracy: 0.9937\n",
      "Epoch 99/180\n",
      "3155/3155 [==============================] - 0s 93us/sample - loss: 0.3016 - wine_quality_loss: 0.2811 - wine_type_loss: 0.0200 - wine_quality_root_mean_squared_error: 0.5305 - wine_type_accuracy: 0.9965 - val_loss: 0.3398 - val_wine_quality_loss: 0.3110 - val_wine_type_loss: 0.0280 - val_wine_quality_root_mean_squared_error: 0.5580 - val_wine_type_accuracy: 0.9937\n",
      "Epoch 100/180\n",
      "3155/3155 [==============================] - 0s 91us/sample - loss: 0.3011 - wine_quality_loss: 0.2809 - wine_type_loss: 0.0201 - wine_quality_root_mean_squared_error: 0.5301 - wine_type_accuracy: 0.9965 - val_loss: 0.3388 - val_wine_quality_loss: 0.3101 - val_wine_type_loss: 0.0278 - val_wine_quality_root_mean_squared_error: 0.5573 - val_wine_type_accuracy: 0.9937\n",
      "Epoch 101/180\n",
      "3155/3155 [==============================] - 0s 78us/sample - loss: 0.2999 - wine_quality_loss: 0.2797 - wine_type_loss: 0.0201 - wine_quality_root_mean_squared_error: 0.5291 - wine_type_accuracy: 0.9965 - val_loss: 0.3355 - val_wine_quality_loss: 0.3070 - val_wine_type_loss: 0.0279 - val_wine_quality_root_mean_squared_error: 0.5543 - val_wine_type_accuracy: 0.9937\n",
      "Epoch 102/180\n",
      "3155/3155 [==============================] - 0s 118us/sample - loss: 0.3005 - wine_quality_loss: 0.2806 - wine_type_loss: 0.0198 - wine_quality_root_mean_squared_error: 0.5298 - wine_type_accuracy: 0.9965 - val_loss: 0.3382 - val_wine_quality_loss: 0.3097 - val_wine_type_loss: 0.0278 - val_wine_quality_root_mean_squared_error: 0.5568 - val_wine_type_accuracy: 0.9937\n",
      "Epoch 103/180\n",
      "3155/3155 [==============================] - 0s 97us/sample - loss: 0.2987 - wine_quality_loss: 0.2784 - wine_type_loss: 0.0198 - wine_quality_root_mean_squared_error: 0.5281 - wine_type_accuracy: 0.9965 - val_loss: 0.3390 - val_wine_quality_loss: 0.3105 - val_wine_type_loss: 0.0279 - val_wine_quality_root_mean_squared_error: 0.5575 - val_wine_type_accuracy: 0.9937\n",
      "Epoch 104/180\n",
      "3155/3155 [==============================] - 0s 95us/sample - loss: 0.2991 - wine_quality_loss: 0.2797 - wine_type_loss: 0.0196 - wine_quality_root_mean_squared_error: 0.5286 - wine_type_accuracy: 0.9965 - val_loss: 0.3362 - val_wine_quality_loss: 0.3078 - val_wine_type_loss: 0.0278 - val_wine_quality_root_mean_squared_error: 0.5551 - val_wine_type_accuracy: 0.9937\n",
      "Epoch 105/180\n",
      "3155/3155 [==============================] - 0s 95us/sample - loss: 0.2979 - wine_quality_loss: 0.2780 - wine_type_loss: 0.0196 - wine_quality_root_mean_squared_error: 0.5275 - wine_type_accuracy: 0.9965 - val_loss: 0.3433 - val_wine_quality_loss: 0.3146 - val_wine_type_loss: 0.0279 - val_wine_quality_root_mean_squared_error: 0.5613 - val_wine_type_accuracy: 0.9937\n",
      "Epoch 106/180\n",
      "3155/3155 [==============================] - 0s 92us/sample - loss: 0.2970 - wine_quality_loss: 0.2772 - wine_type_loss: 0.0194 - wine_quality_root_mean_squared_error: 0.5268 - wine_type_accuracy: 0.9965 - val_loss: 0.3417 - val_wine_quality_loss: 0.3130 - val_wine_type_loss: 0.0280 - val_wine_quality_root_mean_squared_error: 0.5598 - val_wine_type_accuracy: 0.9937\n",
      "Epoch 107/180\n",
      "3155/3155 [==============================] - 0s 90us/sample - loss: 0.2954 - wine_quality_loss: 0.2757 - wine_type_loss: 0.0194 - wine_quality_root_mean_squared_error: 0.5253 - wine_type_accuracy: 0.9965 - val_loss: 0.3456 - val_wine_quality_loss: 0.3173 - val_wine_type_loss: 0.0278 - val_wine_quality_root_mean_squared_error: 0.5634 - val_wine_type_accuracy: 0.9937\n",
      "Epoch 108/180\n",
      "3155/3155 [==============================] - 0s 78us/sample - loss: 0.2970 - wine_quality_loss: 0.2785 - wine_type_loss: 0.0192 - wine_quality_root_mean_squared_error: 0.5269 - wine_type_accuracy: 0.9965 - val_loss: 0.3441 - val_wine_quality_loss: 0.3158 - val_wine_type_loss: 0.0276 - val_wine_quality_root_mean_squared_error: 0.5623 - val_wine_type_accuracy: 0.9937\n",
      "Epoch 109/180\n",
      "3155/3155 [==============================] - 0s 93us/sample - loss: 0.2958 - wine_quality_loss: 0.2763 - wine_type_loss: 0.0192 - wine_quality_root_mean_squared_error: 0.5258 - wine_type_accuracy: 0.9965 - val_loss: 0.3422 - val_wine_quality_loss: 0.3140 - val_wine_type_loss: 0.0276 - val_wine_quality_root_mean_squared_error: 0.5606 - val_wine_type_accuracy: 0.9937\n",
      "Epoch 110/180\n",
      "3155/3155 [==============================] - 0s 93us/sample - loss: 0.2948 - wine_quality_loss: 0.2758 - wine_type_loss: 0.0191 - wine_quality_root_mean_squared_error: 0.5251 - wine_type_accuracy: 0.9965 - val_loss: 0.3484 - val_wine_quality_loss: 0.3200 - val_wine_type_loss: 0.0276 - val_wine_quality_root_mean_squared_error: 0.5661 - val_wine_type_accuracy: 0.9937\n",
      "Epoch 111/180\n",
      "3155/3155 [==============================] - 0s 95us/sample - loss: 0.2949 - wine_quality_loss: 0.2755 - wine_type_loss: 0.0190 - wine_quality_root_mean_squared_error: 0.5252 - wine_type_accuracy: 0.9965 - val_loss: 0.3443 - val_wine_quality_loss: 0.3160 - val_wine_type_loss: 0.0278 - val_wine_quality_root_mean_squared_error: 0.5623 - val_wine_type_accuracy: 0.9937\n",
      "Epoch 112/180\n",
      "3155/3155 [==============================] - 0s 94us/sample - loss: 0.2944 - wine_quality_loss: 0.2755 - wine_type_loss: 0.0190 - wine_quality_root_mean_squared_error: 0.5247 - wine_type_accuracy: 0.9965 - val_loss: 0.3409 - val_wine_quality_loss: 0.3126 - val_wine_type_loss: 0.0276 - val_wine_quality_root_mean_squared_error: 0.5594 - val_wine_type_accuracy: 0.9937\n",
      "Epoch 113/180\n",
      "3155/3155 [==============================] - 0s 94us/sample - loss: 0.2934 - wine_quality_loss: 0.2745 - wine_type_loss: 0.0189 - wine_quality_root_mean_squared_error: 0.5238 - wine_type_accuracy: 0.9965 - val_loss: 0.3354 - val_wine_quality_loss: 0.3073 - val_wine_type_loss: 0.0275 - val_wine_quality_root_mean_squared_error: 0.5545 - val_wine_type_accuracy: 0.9937\n",
      "Epoch 114/180\n",
      "3155/3155 [==============================] - 0s 96us/sample - loss: 0.2936 - wine_quality_loss: 0.2745 - wine_type_loss: 0.0187 - wine_quality_root_mean_squared_error: 0.5242 - wine_type_accuracy: 0.9965 - val_loss: 0.3382 - val_wine_quality_loss: 0.3100 - val_wine_type_loss: 0.0274 - val_wine_quality_root_mean_squared_error: 0.5571 - val_wine_type_accuracy: 0.9949\n",
      "Epoch 115/180\n",
      "3155/3155 [==============================] - 0s 92us/sample - loss: 0.2916 - wine_quality_loss: 0.2726 - wine_type_loss: 0.0187 - wine_quality_root_mean_squared_error: 0.5223 - wine_type_accuracy: 0.9965 - val_loss: 0.3393 - val_wine_quality_loss: 0.3113 - val_wine_type_loss: 0.0275 - val_wine_quality_root_mean_squared_error: 0.5581 - val_wine_type_accuracy: 0.9937\n",
      "Epoch 116/180\n",
      "3155/3155 [==============================] - 0s 93us/sample - loss: 0.2924 - wine_quality_loss: 0.2740 - wine_type_loss: 0.0187 - wine_quality_root_mean_squared_error: 0.5231 - wine_type_accuracy: 0.9965 - val_loss: 0.3328 - val_wine_quality_loss: 0.3048 - val_wine_type_loss: 0.0275 - val_wine_quality_root_mean_squared_error: 0.5522 - val_wine_type_accuracy: 0.9937\n",
      "Epoch 117/180\n",
      "3155/3155 [==============================] - 0s 92us/sample - loss: 0.2923 - wine_quality_loss: 0.2728 - wine_type_loss: 0.0186 - wine_quality_root_mean_squared_error: 0.5231 - wine_type_accuracy: 0.9965 - val_loss: 0.3374 - val_wine_quality_loss: 0.3095 - val_wine_type_loss: 0.0274 - val_wine_quality_root_mean_squared_error: 0.5565 - val_wine_type_accuracy: 0.9949\n",
      "Epoch 118/180\n",
      "3155/3155 [==============================] - 0s 91us/sample - loss: 0.2918 - wine_quality_loss: 0.2733 - wine_type_loss: 0.0185 - wine_quality_root_mean_squared_error: 0.5228 - wine_type_accuracy: 0.9965 - val_loss: 0.3362 - val_wine_quality_loss: 0.3079 - val_wine_type_loss: 0.0273 - val_wine_quality_root_mean_squared_error: 0.5554 - val_wine_type_accuracy: 0.9949\n",
      "Epoch 119/180\n",
      "3155/3155 [==============================] - 0s 77us/sample - loss: 0.2913 - wine_quality_loss: 0.2736 - wine_type_loss: 0.0184 - wine_quality_root_mean_squared_error: 0.5224 - wine_type_accuracy: 0.9965 - val_loss: 0.3377 - val_wine_quality_loss: 0.3099 - val_wine_type_loss: 0.0273 - val_wine_quality_root_mean_squared_error: 0.5567 - val_wine_type_accuracy: 0.9949\n",
      "Epoch 120/180\n",
      "3155/3155 [==============================] - 0s 79us/sample - loss: 0.2905 - wine_quality_loss: 0.2719 - wine_type_loss: 0.0183 - wine_quality_root_mean_squared_error: 0.5217 - wine_type_accuracy: 0.9965 - val_loss: 0.3348 - val_wine_quality_loss: 0.3068 - val_wine_type_loss: 0.0274 - val_wine_quality_root_mean_squared_error: 0.5541 - val_wine_type_accuracy: 0.9937\n",
      "Epoch 121/180\n",
      "3155/3155 [==============================] - 0s 93us/sample - loss: 0.2900 - wine_quality_loss: 0.2721 - wine_type_loss: 0.0182 - wine_quality_root_mean_squared_error: 0.5213 - wine_type_accuracy: 0.9965 - val_loss: 0.3395 - val_wine_quality_loss: 0.3113 - val_wine_type_loss: 0.0273 - val_wine_quality_root_mean_squared_error: 0.5584 - val_wine_type_accuracy: 0.9949\n",
      "Epoch 122/180\n",
      "3155/3155 [==============================] - 0s 93us/sample - loss: 0.2888 - wine_quality_loss: 0.2706 - wine_type_loss: 0.0182 - wine_quality_root_mean_squared_error: 0.5201 - wine_type_accuracy: 0.9965 - val_loss: 0.3523 - val_wine_quality_loss: 0.3244 - val_wine_type_loss: 0.0273 - val_wine_quality_root_mean_squared_error: 0.5697 - val_wine_type_accuracy: 0.9949\n",
      "Epoch 123/180\n",
      "3155/3155 [==============================] - 0s 93us/sample - loss: 0.2889 - wine_quality_loss: 0.2706 - wine_type_loss: 0.0181 - wine_quality_root_mean_squared_error: 0.5204 - wine_type_accuracy: 0.9968 - val_loss: 0.3367 - val_wine_quality_loss: 0.3087 - val_wine_type_loss: 0.0274 - val_wine_quality_root_mean_squared_error: 0.5558 - val_wine_type_accuracy: 0.9937\n",
      "Epoch 124/180\n",
      "3155/3155 [==============================] - 0s 91us/sample - loss: 0.2882 - wine_quality_loss: 0.2704 - wine_type_loss: 0.0180 - wine_quality_root_mean_squared_error: 0.5197 - wine_type_accuracy: 0.9965 - val_loss: 0.3325 - val_wine_quality_loss: 0.3044 - val_wine_type_loss: 0.0273 - val_wine_quality_root_mean_squared_error: 0.5520 - val_wine_type_accuracy: 0.9949\n",
      "Epoch 125/180\n",
      "3155/3155 [==============================] - 0s 76us/sample - loss: 0.2880 - wine_quality_loss: 0.2700 - wine_type_loss: 0.0179 - wine_quality_root_mean_squared_error: 0.5196 - wine_type_accuracy: 0.9965 - val_loss: 0.3368 - val_wine_quality_loss: 0.3087 - val_wine_type_loss: 0.0275 - val_wine_quality_root_mean_squared_error: 0.5558 - val_wine_type_accuracy: 0.9937\n",
      "Epoch 126/180\n",
      "3155/3155 [==============================] - 0s 93us/sample - loss: 0.2877 - wine_quality_loss: 0.2699 - wine_type_loss: 0.0179 - wine_quality_root_mean_squared_error: 0.5194 - wine_type_accuracy: 0.9965 - val_loss: 0.3345 - val_wine_quality_loss: 0.3063 - val_wine_type_loss: 0.0275 - val_wine_quality_root_mean_squared_error: 0.5537 - val_wine_type_accuracy: 0.9937\n",
      "Epoch 127/180\n",
      "3155/3155 [==============================] - 0s 93us/sample - loss: 0.2871 - wine_quality_loss: 0.2692 - wine_type_loss: 0.0178 - wine_quality_root_mean_squared_error: 0.5188 - wine_type_accuracy: 0.9965 - val_loss: 0.3335 - val_wine_quality_loss: 0.3053 - val_wine_type_loss: 0.0274 - val_wine_quality_root_mean_squared_error: 0.5529 - val_wine_type_accuracy: 0.9949\n",
      "Epoch 128/180\n",
      "3155/3155 [==============================] - 0s 93us/sample - loss: 0.2854 - wine_quality_loss: 0.2672 - wine_type_loss: 0.0178 - wine_quality_root_mean_squared_error: 0.5173 - wine_type_accuracy: 0.9965 - val_loss: 0.3333 - val_wine_quality_loss: 0.3052 - val_wine_type_loss: 0.0275 - val_wine_quality_root_mean_squared_error: 0.5527 - val_wine_type_accuracy: 0.9949\n",
      "Epoch 129/180\n",
      "3155/3155 [==============================] - 0s 93us/sample - loss: 0.2859 - wine_quality_loss: 0.2683 - wine_type_loss: 0.0177 - wine_quality_root_mean_squared_error: 0.5178 - wine_type_accuracy: 0.9965 - val_loss: 0.3317 - val_wine_quality_loss: 0.3037 - val_wine_type_loss: 0.0273 - val_wine_quality_root_mean_squared_error: 0.5514 - val_wine_type_accuracy: 0.9949\n",
      "Epoch 130/180\n",
      "3155/3155 [==============================] - 0s 93us/sample - loss: 0.2851 - wine_quality_loss: 0.2670 - wine_type_loss: 0.0177 - wine_quality_root_mean_squared_error: 0.5171 - wine_type_accuracy: 0.9968 - val_loss: 0.3363 - val_wine_quality_loss: 0.3081 - val_wine_type_loss: 0.0274 - val_wine_quality_root_mean_squared_error: 0.5554 - val_wine_type_accuracy: 0.9949\n",
      "Epoch 131/180\n",
      "3155/3155 [==============================] - 0s 93us/sample - loss: 0.2856 - wine_quality_loss: 0.2678 - wine_type_loss: 0.0175 - wine_quality_root_mean_squared_error: 0.5177 - wine_type_accuracy: 0.9965 - val_loss: 0.3384 - val_wine_quality_loss: 0.3103 - val_wine_type_loss: 0.0274 - val_wine_quality_root_mean_squared_error: 0.5574 - val_wine_type_accuracy: 0.9949\n",
      "Epoch 132/180\n",
      "3155/3155 [==============================] - 0s 93us/sample - loss: 0.2847 - wine_quality_loss: 0.2675 - wine_type_loss: 0.0175 - wine_quality_root_mean_squared_error: 0.5169 - wine_type_accuracy: 0.9968 - val_loss: 0.3338 - val_wine_quality_loss: 0.3057 - val_wine_type_loss: 0.0275 - val_wine_quality_root_mean_squared_error: 0.5531 - val_wine_type_accuracy: 0.9949\n",
      "Epoch 133/180\n",
      "3155/3155 [==============================] - 0s 91us/sample - loss: 0.2843 - wine_quality_loss: 0.2670 - wine_type_loss: 0.0199 - wine_quality_root_mean_squared_error: 0.5166 - wine_type_accuracy: 0.9968 - val_loss: 0.3356 - val_wine_quality_loss: 0.3077 - val_wine_type_loss: 0.0273 - val_wine_quality_root_mean_squared_error: 0.5549 - val_wine_type_accuracy: 0.9949\n",
      "Epoch 134/180\n",
      "3155/3155 [==============================] - 0s 77us/sample - loss: 0.2842 - wine_quality_loss: 0.2671 - wine_type_loss: 0.0173 - wine_quality_root_mean_squared_error: 0.5165 - wine_type_accuracy: 0.9968 - val_loss: 0.3399 - val_wine_quality_loss: 0.3115 - val_wine_type_loss: 0.0277 - val_wine_quality_root_mean_squared_error: 0.5585 - val_wine_type_accuracy: 0.9949\n",
      "Epoch 135/180\n",
      "3155/3155 [==============================] - 0s 95us/sample - loss: 0.2824 - wine_quality_loss: 0.2652 - wine_type_loss: 0.0172 - wine_quality_root_mean_squared_error: 0.5149 - wine_type_accuracy: 0.9965 - val_loss: 0.3403 - val_wine_quality_loss: 0.3116 - val_wine_type_loss: 0.0277 - val_wine_quality_root_mean_squared_error: 0.5587 - val_wine_type_accuracy: 0.9949\n",
      "Epoch 136/180\n",
      "3155/3155 [==============================] - 0s 94us/sample - loss: 0.2834 - wine_quality_loss: 0.2658 - wine_type_loss: 0.0185 - wine_quality_root_mean_squared_error: 0.5159 - wine_type_accuracy: 0.9965 - val_loss: 0.3398 - val_wine_quality_loss: 0.3117 - val_wine_type_loss: 0.0275 - val_wine_quality_root_mean_squared_error: 0.5585 - val_wine_type_accuracy: 0.9949\n",
      "Epoch 137/180\n",
      "3155/3155 [==============================] - 0s 93us/sample - loss: 0.2822 - wine_quality_loss: 0.2646 - wine_type_loss: 0.0172 - wine_quality_root_mean_squared_error: 0.5147 - wine_type_accuracy: 0.9965 - val_loss: 0.3363 - val_wine_quality_loss: 0.3082 - val_wine_type_loss: 0.0275 - val_wine_quality_root_mean_squared_error: 0.5554 - val_wine_type_accuracy: 0.9949\n",
      "Epoch 138/180\n",
      "3155/3155 [==============================] - 0s 92us/sample - loss: 0.2828 - wine_quality_loss: 0.2656 - wine_type_loss: 0.0171 - wine_quality_root_mean_squared_error: 0.5154 - wine_type_accuracy: 0.9968 - val_loss: 0.3361 - val_wine_quality_loss: 0.3080 - val_wine_type_loss: 0.0274 - val_wine_quality_root_mean_squared_error: 0.5552 - val_wine_type_accuracy: 0.9949\n",
      "Epoch 139/180\n",
      "3155/3155 [==============================] - 0s 93us/sample - loss: 0.2817 - wine_quality_loss: 0.2647 - wine_type_loss: 0.0173 - wine_quality_root_mean_squared_error: 0.5144 - wine_type_accuracy: 0.9968 - val_loss: 0.3398 - val_wine_quality_loss: 0.3115 - val_wine_type_loss: 0.0275 - val_wine_quality_root_mean_squared_error: 0.5585 - val_wine_type_accuracy: 0.9949\n",
      "Epoch 140/180\n",
      "3155/3155 [==============================] - 0s 92us/sample - loss: 0.2806 - wine_quality_loss: 0.2648 - wine_type_loss: 0.0169 - wine_quality_root_mean_squared_error: 0.5134 - wine_type_accuracy: 0.9968 - val_loss: 0.3483 - val_wine_quality_loss: 0.3199 - val_wine_type_loss: 0.0277 - val_wine_quality_root_mean_squared_error: 0.5659 - val_wine_type_accuracy: 0.9949\n",
      "Epoch 141/180\n",
      "3155/3155 [==============================] - 0s 90us/sample - loss: 0.2799 - wine_quality_loss: 0.2632 - wine_type_loss: 0.0171 - wine_quality_root_mean_squared_error: 0.5128 - wine_type_accuracy: 0.9968 - val_loss: 0.3374 - val_wine_quality_loss: 0.3092 - val_wine_type_loss: 0.0276 - val_wine_quality_root_mean_squared_error: 0.5563 - val_wine_type_accuracy: 0.9962\n",
      "Epoch 142/180\n",
      "3155/3155 [==============================] - 0s 77us/sample - loss: 0.2804 - wine_quality_loss: 0.2634 - wine_type_loss: 0.0168 - wine_quality_root_mean_squared_error: 0.5133 - wine_type_accuracy: 0.9968 - val_loss: 0.3368 - val_wine_quality_loss: 0.3089 - val_wine_type_loss: 0.0275 - val_wine_quality_root_mean_squared_error: 0.5559 - val_wine_type_accuracy: 0.9949\n",
      "Epoch 143/180\n",
      "3155/3155 [==============================] - 0s 92us/sample - loss: 0.2803 - wine_quality_loss: 0.2642 - wine_type_loss: 0.0167 - wine_quality_root_mean_squared_error: 0.5134 - wine_type_accuracy: 0.9968 - val_loss: 0.3401 - val_wine_quality_loss: 0.3120 - val_wine_type_loss: 0.0276 - val_wine_quality_root_mean_squared_error: 0.5587 - val_wine_type_accuracy: 0.9949\n",
      "Epoch 144/180\n",
      "3155/3155 [==============================] - 0s 92us/sample - loss: 0.2796 - wine_quality_loss: 0.2626 - wine_type_loss: 0.0168 - wine_quality_root_mean_squared_error: 0.5126 - wine_type_accuracy: 0.9968 - val_loss: 0.3342 - val_wine_quality_loss: 0.3062 - val_wine_type_loss: 0.0276 - val_wine_quality_root_mean_squared_error: 0.5533 - val_wine_type_accuracy: 0.9962\n",
      "Epoch 145/180\n",
      "3155/3155 [==============================] - 0s 94us/sample - loss: 0.2794 - wine_quality_loss: 0.2628 - wine_type_loss: 0.0166 - wine_quality_root_mean_squared_error: 0.5126 - wine_type_accuracy: 0.9968 - val_loss: 0.3340 - val_wine_quality_loss: 0.3058 - val_wine_type_loss: 0.0277 - val_wine_quality_root_mean_squared_error: 0.5532 - val_wine_type_accuracy: 0.9962\n",
      "Epoch 146/180\n",
      "3155/3155 [==============================] - 0s 91us/sample - loss: 0.2787 - wine_quality_loss: 0.2623 - wine_type_loss: 0.0166 - wine_quality_root_mean_squared_error: 0.5119 - wine_type_accuracy: 0.9968 - val_loss: 0.3368 - val_wine_quality_loss: 0.3085 - val_wine_type_loss: 0.0277 - val_wine_quality_root_mean_squared_error: 0.5556 - val_wine_type_accuracy: 0.9962\n",
      "Epoch 147/180\n",
      "3155/3155 [==============================] - 0s 91us/sample - loss: 0.2792 - wine_quality_loss: 0.2629 - wine_type_loss: 0.0166 - wine_quality_root_mean_squared_error: 0.5124 - wine_type_accuracy: 0.9965 - val_loss: 0.3370 - val_wine_quality_loss: 0.3085 - val_wine_type_loss: 0.0277 - val_wine_quality_root_mean_squared_error: 0.5558 - val_wine_type_accuracy: 0.9962\n",
      "Epoch 148/180\n",
      "3155/3155 [==============================] - 0s 79us/sample - loss: 0.2773 - wine_quality_loss: 0.2605 - wine_type_loss: 0.0164 - wine_quality_root_mean_squared_error: 0.5107 - wine_type_accuracy: 0.9968 - val_loss: 0.3360 - val_wine_quality_loss: 0.3077 - val_wine_type_loss: 0.0277 - val_wine_quality_root_mean_squared_error: 0.5549 - val_wine_type_accuracy: 0.9962\n",
      "Epoch 149/180\n",
      "3155/3155 [==============================] - 0s 93us/sample - loss: 0.2789 - wine_quality_loss: 0.2625 - wine_type_loss: 0.0164 - wine_quality_root_mean_squared_error: 0.5123 - wine_type_accuracy: 0.9968 - val_loss: 0.3371 - val_wine_quality_loss: 0.3091 - val_wine_type_loss: 0.0276 - val_wine_quality_root_mean_squared_error: 0.5560 - val_wine_type_accuracy: 0.9962\n",
      "Epoch 150/180\n",
      "3155/3155 [==============================] - 0s 93us/sample - loss: 0.2769 - wine_quality_loss: 0.2602 - wine_type_loss: 0.0163 - wine_quality_root_mean_squared_error: 0.5105 - wine_type_accuracy: 0.9965 - val_loss: 0.3400 - val_wine_quality_loss: 0.3117 - val_wine_type_loss: 0.0277 - val_wine_quality_root_mean_squared_error: 0.5585 - val_wine_type_accuracy: 0.9962\n",
      "Epoch 151/180\n",
      "3155/3155 [==============================] - 0s 95us/sample - loss: 0.2761 - wine_quality_loss: 0.2598 - wine_type_loss: 0.0162 - wine_quality_root_mean_squared_error: 0.5097 - wine_type_accuracy: 0.9968 - val_loss: 0.3320 - val_wine_quality_loss: 0.3037 - val_wine_type_loss: 0.0278 - val_wine_quality_root_mean_squared_error: 0.5512 - val_wine_type_accuracy: 0.9962\n",
      "Epoch 152/180\n",
      "3155/3155 [==============================] - 0s 94us/sample - loss: 0.2755 - wine_quality_loss: 0.2595 - wine_type_loss: 0.0162 - wine_quality_root_mean_squared_error: 0.5091 - wine_type_accuracy: 0.9968 - val_loss: 0.3453 - val_wine_quality_loss: 0.3171 - val_wine_type_loss: 0.0276 - val_wine_quality_root_mean_squared_error: 0.5633 - val_wine_type_accuracy: 0.9962\n",
      "Epoch 153/180\n",
      "3155/3155 [==============================] - 0s 93us/sample - loss: 0.2767 - wine_quality_loss: 0.2611 - wine_type_loss: 0.0162 - wine_quality_root_mean_squared_error: 0.5104 - wine_type_accuracy: 0.9968 - val_loss: 0.3369 - val_wine_quality_loss: 0.3084 - val_wine_type_loss: 0.0277 - val_wine_quality_root_mean_squared_error: 0.5556 - val_wine_type_accuracy: 0.9962\n",
      "Epoch 154/180\n",
      "3155/3155 [==============================] - 0s 93us/sample - loss: 0.2766 - wine_quality_loss: 0.2604 - wine_type_loss: 0.0162 - wine_quality_root_mean_squared_error: 0.5103 - wine_type_accuracy: 0.9968 - val_loss: 0.3380 - val_wine_quality_loss: 0.3097 - val_wine_type_loss: 0.0277 - val_wine_quality_root_mean_squared_error: 0.5567 - val_wine_type_accuracy: 0.9962\n",
      "Epoch 155/180\n",
      "3155/3155 [==============================] - 0s 92us/sample - loss: 0.2743 - wine_quality_loss: 0.2579 - wine_type_loss: 0.0161 - wine_quality_root_mean_squared_error: 0.5082 - wine_type_accuracy: 0.9968 - val_loss: 0.3322 - val_wine_quality_loss: 0.3038 - val_wine_type_loss: 0.0276 - val_wine_quality_root_mean_squared_error: 0.5515 - val_wine_type_accuracy: 0.9962\n",
      "Epoch 156/180\n",
      "3155/3155 [==============================] - 0s 93us/sample - loss: 0.2747 - wine_quality_loss: 0.2584 - wine_type_loss: 0.0160 - wine_quality_root_mean_squared_error: 0.5086 - wine_type_accuracy: 0.9968 - val_loss: 0.3397 - val_wine_quality_loss: 0.3115 - val_wine_type_loss: 0.0276 - val_wine_quality_root_mean_squared_error: 0.5583 - val_wine_type_accuracy: 0.9962\n",
      "Epoch 157/180\n",
      "3155/3155 [==============================] - 0s 92us/sample - loss: 0.2736 - wine_quality_loss: 0.2573 - wine_type_loss: 0.0158 - wine_quality_root_mean_squared_error: 0.5076 - wine_type_accuracy: 0.9968 - val_loss: 0.3401 - val_wine_quality_loss: 0.3115 - val_wine_type_loss: 0.0280 - val_wine_quality_root_mean_squared_error: 0.5583 - val_wine_type_accuracy: 0.9962\n",
      "Epoch 158/180\n",
      "3155/3155 [==============================] - 0s 77us/sample - loss: 0.2745 - wine_quality_loss: 0.2589 - wine_type_loss: 0.0159 - wine_quality_root_mean_squared_error: 0.5084 - wine_type_accuracy: 0.9965 - val_loss: 0.3327 - val_wine_quality_loss: 0.3041 - val_wine_type_loss: 0.0279 - val_wine_quality_root_mean_squared_error: 0.5517 - val_wine_type_accuracy: 0.9962\n",
      "Epoch 159/180\n",
      "3155/3155 [==============================] - 0s 93us/sample - loss: 0.2744 - wine_quality_loss: 0.2583 - wine_type_loss: 0.0159 - wine_quality_root_mean_squared_error: 0.5083 - wine_type_accuracy: 0.9968 - val_loss: 0.3363 - val_wine_quality_loss: 0.3078 - val_wine_type_loss: 0.0279 - val_wine_quality_root_mean_squared_error: 0.5550 - val_wine_type_accuracy: 0.9962\n",
      "Epoch 160/180\n",
      "3155/3155 [==============================] - 0s 92us/sample - loss: 0.2730 - wine_quality_loss: 0.2574 - wine_type_loss: 0.0158 - wine_quality_root_mean_squared_error: 0.5071 - wine_type_accuracy: 0.9968 - val_loss: 0.3322 - val_wine_quality_loss: 0.3038 - val_wine_type_loss: 0.0278 - val_wine_quality_root_mean_squared_error: 0.5514 - val_wine_type_accuracy: 0.9962\n",
      "Epoch 161/180\n",
      "3155/3155 [==============================] - 0s 96us/sample - loss: 0.2732 - wine_quality_loss: 0.2576 - wine_type_loss: 0.0158 - wine_quality_root_mean_squared_error: 0.5073 - wine_type_accuracy: 0.9968 - val_loss: 0.3324 - val_wine_quality_loss: 0.3041 - val_wine_type_loss: 0.0279 - val_wine_quality_root_mean_squared_error: 0.5515 - val_wine_type_accuracy: 0.9962\n",
      "Epoch 162/180\n",
      "3155/3155 [==============================] - 0s 93us/sample - loss: 0.2716 - wine_quality_loss: 0.2561 - wine_type_loss: 0.0156 - wine_quality_root_mean_squared_error: 0.5059 - wine_type_accuracy: 0.9968 - val_loss: 0.3336 - val_wine_quality_loss: 0.3053 - val_wine_type_loss: 0.0278 - val_wine_quality_root_mean_squared_error: 0.5526 - val_wine_type_accuracy: 0.9962\n",
      "Epoch 163/180\n",
      "3155/3155 [==============================] - 0s 96us/sample - loss: 0.2725 - wine_quality_loss: 0.2566 - wine_type_loss: 0.0156 - wine_quality_root_mean_squared_error: 0.5069 - wine_type_accuracy: 0.9968 - val_loss: 0.3337 - val_wine_quality_loss: 0.3051 - val_wine_type_loss: 0.0280 - val_wine_quality_root_mean_squared_error: 0.5526 - val_wine_type_accuracy: 0.9962\n",
      "Epoch 164/180\n",
      "3155/3155 [==============================] - 0s 93us/sample - loss: 0.2715 - wine_quality_loss: 0.2559 - wine_type_loss: 0.0155 - wine_quality_root_mean_squared_error: 0.5059 - wine_type_accuracy: 0.9968 - val_loss: 0.3390 - val_wine_quality_loss: 0.3103 - val_wine_type_loss: 0.0282 - val_wine_quality_root_mean_squared_error: 0.5572 - val_wine_type_accuracy: 0.9962\n",
      "Epoch 165/180\n",
      "3155/3155 [==============================] - 0s 94us/sample - loss: 0.2719 - wine_quality_loss: 0.2558 - wine_type_loss: 0.0155 - wine_quality_root_mean_squared_error: 0.5063 - wine_type_accuracy: 0.9965 - val_loss: 0.3368 - val_wine_quality_loss: 0.3083 - val_wine_type_loss: 0.0278 - val_wine_quality_root_mean_squared_error: 0.5555 - val_wine_type_accuracy: 0.9962\n",
      "Epoch 166/180\n",
      "3155/3155 [==============================] - 0s 96us/sample - loss: 0.2706 - wine_quality_loss: 0.2551 - wine_type_loss: 0.0155 - wine_quality_root_mean_squared_error: 0.5051 - wine_type_accuracy: 0.9968 - val_loss: 0.3361 - val_wine_quality_loss: 0.3076 - val_wine_type_loss: 0.0278 - val_wine_quality_root_mean_squared_error: 0.5549 - val_wine_type_accuracy: 0.9962\n",
      "Epoch 167/180\n",
      "3155/3155 [==============================] - 0s 92us/sample - loss: 0.2693 - wine_quality_loss: 0.2543 - wine_type_loss: 0.0154 - wine_quality_root_mean_squared_error: 0.5039 - wine_type_accuracy: 0.9968 - val_loss: 0.3338 - val_wine_quality_loss: 0.3056 - val_wine_type_loss: 0.0279 - val_wine_quality_root_mean_squared_error: 0.5527 - val_wine_type_accuracy: 0.9962\n",
      "Epoch 168/180\n",
      "3155/3155 [==============================] - 0s 94us/sample - loss: 0.2702 - wine_quality_loss: 0.2546 - wine_type_loss: 0.0153 - wine_quality_root_mean_squared_error: 0.5048 - wine_type_accuracy: 0.9968 - val_loss: 0.3364 - val_wine_quality_loss: 0.3078 - val_wine_type_loss: 0.0280 - val_wine_quality_root_mean_squared_error: 0.5550 - val_wine_type_accuracy: 0.9962\n",
      "Epoch 169/180\n",
      "3155/3155 [==============================] - 0s 94us/sample - loss: 0.2698 - wine_quality_loss: 0.2546 - wine_type_loss: 0.0155 - wine_quality_root_mean_squared_error: 0.5045 - wine_type_accuracy: 0.9968 - val_loss: 0.3368 - val_wine_quality_loss: 0.3083 - val_wine_type_loss: 0.0280 - val_wine_quality_root_mean_squared_error: 0.5553 - val_wine_type_accuracy: 0.9962\n",
      "Epoch 170/180\n",
      "3155/3155 [==============================] - 0s 93us/sample - loss: 0.2699 - wine_quality_loss: 0.2547 - wine_type_loss: 0.0152 - wine_quality_root_mean_squared_error: 0.5046 - wine_type_accuracy: 0.9968 - val_loss: 0.3350 - val_wine_quality_loss: 0.3067 - val_wine_type_loss: 0.0279 - val_wine_quality_root_mean_squared_error: 0.5539 - val_wine_type_accuracy: 0.9962\n",
      "Epoch 171/180\n",
      "3155/3155 [==============================] - 0s 95us/sample - loss: 0.2691 - wine_quality_loss: 0.2536 - wine_type_loss: 0.0152 - wine_quality_root_mean_squared_error: 0.5039 - wine_type_accuracy: 0.9968 - val_loss: 0.3455 - val_wine_quality_loss: 0.3168 - val_wine_type_loss: 0.0279 - val_wine_quality_root_mean_squared_error: 0.5632 - val_wine_type_accuracy: 0.9962\n",
      "Epoch 172/180\n",
      "3155/3155 [==============================] - 0s 95us/sample - loss: 0.2694 - wine_quality_loss: 0.2539 - wine_type_loss: 0.0152 - wine_quality_root_mean_squared_error: 0.5042 - wine_type_accuracy: 0.9968 - val_loss: 0.3363 - val_wine_quality_loss: 0.3073 - val_wine_type_loss: 0.0282 - val_wine_quality_root_mean_squared_error: 0.5548 - val_wine_type_accuracy: 0.9962\n",
      "Epoch 173/180\n",
      "3155/3155 [==============================] - 0s 96us/sample - loss: 0.2682 - wine_quality_loss: 0.2537 - wine_type_loss: 0.0151 - wine_quality_root_mean_squared_error: 0.5031 - wine_type_accuracy: 0.9968 - val_loss: 0.3327 - val_wine_quality_loss: 0.3042 - val_wine_type_loss: 0.0280 - val_wine_quality_root_mean_squared_error: 0.5517 - val_wine_type_accuracy: 0.9962\n",
      "Epoch 174/180\n",
      "3155/3155 [==============================] - 0s 91us/sample - loss: 0.2678 - wine_quality_loss: 0.2542 - wine_type_loss: 0.0150 - wine_quality_root_mean_squared_error: 0.5027 - wine_type_accuracy: 0.9968 - val_loss: 0.3332 - val_wine_quality_loss: 0.3047 - val_wine_type_loss: 0.0280 - val_wine_quality_root_mean_squared_error: 0.5521 - val_wine_type_accuracy: 0.9962\n",
      "Epoch 175/180\n",
      "3155/3155 [==============================] - 0s 77us/sample - loss: 0.2683 - wine_quality_loss: 0.2531 - wine_type_loss: 0.0150 - wine_quality_root_mean_squared_error: 0.5033 - wine_type_accuracy: 0.9968 - val_loss: 0.3356 - val_wine_quality_loss: 0.3071 - val_wine_type_loss: 0.0280 - val_wine_quality_root_mean_squared_error: 0.5543 - val_wine_type_accuracy: 0.9962\n",
      "Epoch 176/180\n",
      "3155/3155 [==============================] - 0s 80us/sample - loss: 0.2679 - wine_quality_loss: 0.2528 - wine_type_loss: 0.0149 - wine_quality_root_mean_squared_error: 0.5030 - wine_type_accuracy: 0.9968 - val_loss: 0.3451 - val_wine_quality_loss: 0.3163 - val_wine_type_loss: 0.0281 - val_wine_quality_root_mean_squared_error: 0.5627 - val_wine_type_accuracy: 0.9962\n",
      "Epoch 177/180\n",
      "3155/3155 [==============================] - 0s 95us/sample - loss: 0.2661 - wine_quality_loss: 0.2513 - wine_type_loss: 0.0148 - wine_quality_root_mean_squared_error: 0.5013 - wine_type_accuracy: 0.9968 - val_loss: 0.3402 - val_wine_quality_loss: 0.3109 - val_wine_type_loss: 0.0284 - val_wine_quality_root_mean_squared_error: 0.5581 - val_wine_type_accuracy: 0.9962\n",
      "Epoch 178/180\n",
      "3155/3155 [==============================] - 0s 94us/sample - loss: 0.2675 - wine_quality_loss: 0.2524 - wine_type_loss: 0.0148 - wine_quality_root_mean_squared_error: 0.5026 - wine_type_accuracy: 0.9971 - val_loss: 0.3335 - val_wine_quality_loss: 0.3044 - val_wine_type_loss: 0.0282 - val_wine_quality_root_mean_squared_error: 0.5521 - val_wine_type_accuracy: 0.9962\n",
      "Epoch 179/180\n",
      "3155/3155 [==============================] - 0s 95us/sample - loss: 0.2663 - wine_quality_loss: 0.2511 - wine_type_loss: 0.0148 - wine_quality_root_mean_squared_error: 0.5015 - wine_type_accuracy: 0.9968 - val_loss: 0.3360 - val_wine_quality_loss: 0.3070 - val_wine_type_loss: 0.0282 - val_wine_quality_root_mean_squared_error: 0.5544 - val_wine_type_accuracy: 0.9962\n",
      "Epoch 180/180\n",
      "3155/3155 [==============================] - 0s 93us/sample - loss: 0.2650 - wine_quality_loss: 0.2505 - wine_type_loss: 0.0147 - wine_quality_root_mean_squared_error: 0.5002 - wine_type_accuracy: 0.9971 - val_loss: 0.3379 - val_wine_quality_loss: 0.3090 - val_wine_type_loss: 0.0282 - val_wine_quality_root_mean_squared_error: 0.5561 - val_wine_type_accuracy: 0.9962\n"
     ]
    }
   ],
   "source": [
    "## Please uncomment all lines in this cell and replace those marked with `# YOUR CODE HERE`.\n",
    "## You can select all lines in this code cell with Ctrl+A (Windows/Linux) or Cmd+A (Mac), then press Ctrl+/ (Windows/Linux) or Cmd+/ (Mac) to uncomment.\n",
    "\n",
    "\n",
    "\n",
    "history = model.fit(norm_train_X, [train_Y[0], train_Y[1]],\n",
    "                     epochs = 180, validation_data=(norm_val_X, [val_Y[0], val_Y[1]]))"
   ]
  },
  {
   "cell_type": "code",
   "execution_count": 72,
   "metadata": {
    "deletable": false,
    "editable": false,
    "nbgrader": {
     "cell_type": "code",
     "checksum": "fadad8896eda9c8c2115970724b15508",
     "grade": true,
     "grade_id": "cell-eb4d5b41bef8f0ab",
     "locked": true,
     "points": 1,
     "schema_version": 3,
     "solution": false,
     "task": false
    }
   },
   "outputs": [
    {
     "name": "stdout",
     "output_type": "stream",
     "text": [
      "\u001b[92m All public tests passed\n"
     ]
    }
   ],
   "source": [
    "utils.test_history(history)"
   ]
  },
  {
   "cell_type": "code",
   "execution_count": 73,
   "metadata": {
    "colab": {},
    "colab_type": "code",
    "id": "CubF2J2gSf6q"
   },
   "outputs": [
    {
     "name": "stdout",
     "output_type": "stream",
     "text": [
      "789/789 [==============================] - 0s 22us/sample - loss: 0.3379 - wine_quality_loss: 0.3090 - wine_type_loss: 0.0282 - wine_quality_root_mean_squared_error: 0.5561 - wine_type_accuracy: 0.9962\n",
      "\n",
      "loss: 0.3378603177756562\n",
      "wine_quality_loss: 0.30900290608406067\n",
      "wine_type_loss: 0.02820327691733837\n",
      "wine_quality_rmse: 0.5561271905899048\n",
      "wine_type_accuracy: 0.9961977005004883\n"
     ]
    }
   ],
   "source": [
    "# Gather the training metrics\n",
    "loss, wine_quality_loss, wine_type_loss, wine_quality_rmse, wine_type_accuracy = model.evaluate(x=norm_val_X, y=val_Y)\n",
    "\n",
    "print()\n",
    "print(f'loss: {loss}')\n",
    "print(f'wine_quality_loss: {wine_quality_loss}')\n",
    "print(f'wine_type_loss: {wine_type_loss}')\n",
    "print(f'wine_quality_rmse: {wine_quality_rmse}')\n",
    "print(f'wine_type_accuracy: {wine_type_accuracy}')\n",
    "\n",
    "# EXPECTED VALUES\n",
    "# ~ 0.30 - 0.38\n",
    "# ~ 0.30 - 0.38\n",
    "# ~ 0.018 - 0.030\n",
    "# ~ 0.50 - 0.62\n",
    "# ~ 0.97 - 1.0\n",
    "\n",
    "# Example:\n",
    "#0.3657050132751465\n",
    "#0.3463745415210724\n",
    "#0.019330406561493874\n",
    "#0.5885359048843384\n",
    "#0.9974651336669922"
   ]
  },
  {
   "cell_type": "markdown",
   "metadata": {
    "colab_type": "text",
    "id": "gPtTGAP4usnm"
   },
   "source": [
    "## Analyze the Model Performance\n",
    "\n",
    "Note that the model has two outputs. The output at index 0 is quality and index 1 is wine type\n",
    "\n",
    "So, round the quality predictions to the nearest integer."
   ]
  },
  {
   "cell_type": "code",
   "execution_count": 74,
   "metadata": {
    "colab": {},
    "colab_type": "code",
    "id": "tBq9PEeAaW-Y"
   },
   "outputs": [],
   "source": [
    "predictions = model.predict(norm_test_X)\n",
    "quality_pred = predictions[0]\n",
    "type_pred = predictions[1]"
   ]
  },
  {
   "cell_type": "code",
   "execution_count": 75,
   "metadata": {
    "colab": {},
    "colab_type": "code",
    "id": "YLhgTR4xTIxj"
   },
   "outputs": [
    {
     "name": "stdout",
     "output_type": "stream",
     "text": [
      "[5.659641]\n"
     ]
    }
   ],
   "source": [
    "print(quality_pred[0])\n",
    "\n",
    "# EXPECTED OUTPUT\n",
    "# 5.6 - 6.0"
   ]
  },
  {
   "cell_type": "code",
   "execution_count": 76,
   "metadata": {
    "colab": {},
    "colab_type": "code",
    "id": "MPi-eYfGTUXi"
   },
   "outputs": [
    {
     "name": "stdout",
     "output_type": "stream",
     "text": [
      "[5.5563218e-05]\n",
      "[0.9999958]\n"
     ]
    }
   ],
   "source": [
    "print(type_pred[0])\n",
    "print(type_pred[944])\n",
    "\n",
    "# EXPECTED OUTPUT\n",
    "# A number close to zero\n",
    "# A number close to or equal to 1"
   ]
  },
  {
   "cell_type": "markdown",
   "metadata": {
    "colab_type": "text",
    "id": "Kohk-9C6vt_s"
   },
   "source": [
    "### Plot Utilities\n",
    "\n",
    "We define a few utilities to visualize the model performance."
   ]
  },
  {
   "cell_type": "code",
   "execution_count": 77,
   "metadata": {
    "colab": {},
    "colab_type": "code",
    "id": "62gEOFUhn6aQ"
   },
   "outputs": [],
   "source": [
    "def plot_metrics(metric_name, title, ylim=5):\n",
    "    plt.title(title)\n",
    "    plt.ylim(0,ylim)\n",
    "    plt.plot(history.history[metric_name],color='blue',label=metric_name)\n",
    "    plt.plot(history.history['val_' + metric_name],color='green',label='val_' + metric_name)\n"
   ]
  },
  {
   "cell_type": "code",
   "execution_count": 78,
   "metadata": {
    "colab": {},
    "colab_type": "code",
    "id": "6rfgSx7uz5dj"
   },
   "outputs": [],
   "source": [
    "def plot_confusion_matrix(y_true, y_pred, title='', labels=[0,1]):\n",
    "    cm = confusion_matrix(y_true, y_pred)\n",
    "    fig = plt.figure()\n",
    "    ax = fig.add_subplot(111)\n",
    "    cax = ax.matshow(cm)\n",
    "    plt.title('Confusion matrix of the classifier')\n",
    "    fig.colorbar(cax)\n",
    "    ax.set_xticklabels([''] + labels)\n",
    "    ax.set_yticklabels([''] + labels)\n",
    "    plt.xlabel('Predicted')\n",
    "    plt.ylabel('True')\n",
    "    fmt = 'd'\n",
    "    thresh = cm.max() / 2.\n",
    "    for i, j in itertools.product(range(cm.shape[0]), range(cm.shape[1])):\n",
    "          plt.text(j, i, format(cm[i, j], fmt),\n",
    "                  horizontalalignment=\"center\",\n",
    "                  color=\"black\" if cm[i, j] > thresh else \"white\")\n",
    "    plt.show()"
   ]
  },
  {
   "cell_type": "code",
   "execution_count": 79,
   "metadata": {
    "colab": {},
    "colab_type": "code",
    "id": "dfVLIqi017Vf"
   },
   "outputs": [],
   "source": [
    "def plot_diff(y_true, y_pred, title = '' ):\n",
    "    plt.scatter(y_true, y_pred)\n",
    "    plt.title(title)\n",
    "    plt.xlabel('True Values')\n",
    "    plt.ylabel('Predictions')\n",
    "    plt.axis('equal')\n",
    "    plt.axis('square')\n",
    "    plt.plot([-100, 100], [-100, 100])\n",
    "    return plt"
   ]
  },
  {
   "cell_type": "markdown",
   "metadata": {
    "colab_type": "text",
    "id": "8sd1jdFbwE0I"
   },
   "source": [
    "### Plots for Metrics"
   ]
  },
  {
   "cell_type": "code",
   "execution_count": 80,
   "metadata": {
    "colab": {},
    "colab_type": "code",
    "id": "f3MwZ5J1pOfj"
   },
   "outputs": [
    {
     "data": {
      "image/png": "[encoded data removed]",
      "text/plain": [
       "<Figure size 432x288 with 1 Axes>"
      ]
     },
     "metadata": {
      "needs_background": "light"
     },
     "output_type": "display_data"
    }
   ],
   "source": [
    "plot_metrics('wine_quality_root_mean_squared_error', 'RMSE', ylim=2)"
   ]
  },
  {
   "cell_type": "code",
   "execution_count": 81,
   "metadata": {
    "colab": {},
    "colab_type": "code",
    "id": "QIAxEezCppnd"
   },
   "outputs": [
    {
     "data": {
      "image/png": "[encoded data removed]",
      "text/plain": [
       "<Figure size 432x288 with 1 Axes>"
      ]
     },
     "metadata": {
      "needs_background": "light"
     },
     "output_type": "display_data"
    }
   ],
   "source": [
    "plot_metrics('wine_type_loss', 'Wine Type Loss', ylim=0.2)"
   ]
  },
  {
   "cell_type": "markdown",
   "metadata": {
    "colab_type": "text",
    "id": "uYV9AOAMwI9p"
   },
   "source": [
    "### Plots for Confusion Matrix\n",
    "\n",
    "Plot the confusion matrices for wine type. You can see that the model performs well for prediction of wine type from the confusion matrix and the loss metrics."
   ]
  },
  {
   "cell_type": "code",
   "execution_count": 82,
   "metadata": {
    "colab": {},
    "colab_type": "code",
    "id": "C3hvTYxIaf3n"
   },
   "outputs": [
    {
     "data": {
      "image/png": "[encoded data removed]",
      "text/plain": [
       "<Figure size 432x288 with 2 Axes>"
      ]
     },
     "metadata": {
      "needs_background": "light"
     },
     "output_type": "display_data"
    }
   ],
   "source": [
    "plot_confusion_matrix(test_Y[1], np.round(type_pred), title='Wine Type', labels = [0, 1])"
   ]
  },
  {
   "cell_type": "code",
   "execution_count": 58,
   "metadata": {
    "colab": {},
    "colab_type": "code",
    "id": "GW91ym8P2I5y"
   },
   "outputs": [
    {
     "data": {
      "image/png": "[encoded data removed]",
      "text/plain": [
       "<Figure size 432x288 with 1 Axes>"
      ]
     },
     "metadata": {
      "needs_background": "light"
     },
     "output_type": "display_data"
    }
   ],
   "source": [
    "scatter_plot = plot_diff(test_Y[0], quality_pred, title='Type')"
   ]
  },
  {
   "cell_type": "code",
   "execution_count": null,
   "metadata": {},
   "outputs": [],
   "source": []
  }
 ],
 "metadata": {
  "colab": {
   "include_colab_link": true,
   "name": "exercise-answer.ipynb",
   "provenance": []
  },
  "kernelspec": {
   "display_name": "Python 3",
   "language": "python",
   "name": "python3"
  },
  "language_info": {
   "codemirror_mode": {
    "name": "ipython",
    "version": 3
   },
   "file_extension": ".py",
   "mimetype": "text/x-python",
   "name": "python",
   "nbconvert_exporter": "python",
   "pygments_lexer": "ipython3",
   "version": "3.7.6"
  }
 },
 "nbformat": 4,
 "nbformat_minor": 4
}
